{
 "cells": [
  {
   "cell_type": "markdown",
   "metadata": {},
   "source": [
    "# Telecom Churn Case Study"
   ]
  },
  {
   "cell_type": "markdown",
   "metadata": {},
   "source": [
    "In the telecom industry, customers are able to choose from multiple service providers and actively switch from one operator to another. Retaining high profitable customers is the number one business goal.\n",
    "To reduce customer churn, telecom companies need to predict which customers are at high risk of churn.\n",
    "\n",
    "Here we will analyse customer-level data of a leading telecom firm, build predictive models to identify customers at high risk of churn and identify the main indicators of churn."
   ]
  },
  {
   "cell_type": "markdown",
   "metadata": {},
   "source": [
    "## Business Objective \n",
    "\n",
    "The dataset contains customer-level information for a span of four consecutive months - June, July, August and September. The months are encoded as 6, 7, 8 and 9, respectively. \n",
    "\n",
    "\n",
    "The business objective is to predict the churn in the last (i.e. the ninth) month using the data (features) from the first three months. To do this task well, understanding the typical customer behaviour during churn will be helpful."
   ]
  },
  {
   "cell_type": "code",
   "execution_count": 1,
   "metadata": {},
   "outputs": [],
   "source": [
    "import numpy as np\n",
    "import pandas as pd\n",
    "import matplotlib.pyplot as plt\n",
    "import seaborn as sns\n",
    "\n",
    "import warnings\n",
    "warnings.filterwarnings(\"ignore\")"
   ]
  },
  {
   "cell_type": "markdown",
   "metadata": {},
   "source": [
    "#### Importing the Data"
   ]
  },
  {
   "cell_type": "code",
   "execution_count": 2,
   "metadata": {},
   "outputs": [
    {
     "data": {
      "text/html": [
       "<div>\n",
       "<style scoped>\n",
       "    .dataframe tbody tr th:only-of-type {\n",
       "        vertical-align: middle;\n",
       "    }\n",
       "\n",
       "    .dataframe tbody tr th {\n",
       "        vertical-align: top;\n",
       "    }\n",
       "\n",
       "    .dataframe thead th {\n",
       "        text-align: right;\n",
       "    }\n",
       "</style>\n",
       "<table border=\"1\" class=\"dataframe\">\n",
       "  <thead>\n",
       "    <tr style=\"text-align: right;\">\n",
       "      <th></th>\n",
       "      <th>mobile_number</th>\n",
       "      <th>circle_id</th>\n",
       "      <th>loc_og_t2o_mou</th>\n",
       "      <th>std_og_t2o_mou</th>\n",
       "      <th>loc_ic_t2o_mou</th>\n",
       "      <th>last_date_of_month_6</th>\n",
       "      <th>last_date_of_month_7</th>\n",
       "      <th>last_date_of_month_8</th>\n",
       "      <th>last_date_of_month_9</th>\n",
       "      <th>arpu_6</th>\n",
       "      <th>...</th>\n",
       "      <th>sachet_3g_9</th>\n",
       "      <th>fb_user_6</th>\n",
       "      <th>fb_user_7</th>\n",
       "      <th>fb_user_8</th>\n",
       "      <th>fb_user_9</th>\n",
       "      <th>aon</th>\n",
       "      <th>aug_vbc_3g</th>\n",
       "      <th>jul_vbc_3g</th>\n",
       "      <th>jun_vbc_3g</th>\n",
       "      <th>sep_vbc_3g</th>\n",
       "    </tr>\n",
       "  </thead>\n",
       "  <tbody>\n",
       "    <tr>\n",
       "      <th>0</th>\n",
       "      <td>7000842753</td>\n",
       "      <td>109</td>\n",
       "      <td>0.0</td>\n",
       "      <td>0.0</td>\n",
       "      <td>0.0</td>\n",
       "      <td>6/30/2014</td>\n",
       "      <td>7/31/2014</td>\n",
       "      <td>8/31/2014</td>\n",
       "      <td>9/30/2014</td>\n",
       "      <td>197.385</td>\n",
       "      <td>...</td>\n",
       "      <td>0</td>\n",
       "      <td>1.0</td>\n",
       "      <td>1.0</td>\n",
       "      <td>1.0</td>\n",
       "      <td>NaN</td>\n",
       "      <td>968</td>\n",
       "      <td>30.4</td>\n",
       "      <td>0.0</td>\n",
       "      <td>101.20</td>\n",
       "      <td>3.58</td>\n",
       "    </tr>\n",
       "    <tr>\n",
       "      <th>1</th>\n",
       "      <td>7001865778</td>\n",
       "      <td>109</td>\n",
       "      <td>0.0</td>\n",
       "      <td>0.0</td>\n",
       "      <td>0.0</td>\n",
       "      <td>6/30/2014</td>\n",
       "      <td>7/31/2014</td>\n",
       "      <td>8/31/2014</td>\n",
       "      <td>9/30/2014</td>\n",
       "      <td>34.047</td>\n",
       "      <td>...</td>\n",
       "      <td>0</td>\n",
       "      <td>NaN</td>\n",
       "      <td>1.0</td>\n",
       "      <td>1.0</td>\n",
       "      <td>NaN</td>\n",
       "      <td>1006</td>\n",
       "      <td>0.0</td>\n",
       "      <td>0.0</td>\n",
       "      <td>0.00</td>\n",
       "      <td>0.00</td>\n",
       "    </tr>\n",
       "    <tr>\n",
       "      <th>2</th>\n",
       "      <td>7001625959</td>\n",
       "      <td>109</td>\n",
       "      <td>0.0</td>\n",
       "      <td>0.0</td>\n",
       "      <td>0.0</td>\n",
       "      <td>6/30/2014</td>\n",
       "      <td>7/31/2014</td>\n",
       "      <td>8/31/2014</td>\n",
       "      <td>9/30/2014</td>\n",
       "      <td>167.690</td>\n",
       "      <td>...</td>\n",
       "      <td>0</td>\n",
       "      <td>NaN</td>\n",
       "      <td>NaN</td>\n",
       "      <td>NaN</td>\n",
       "      <td>1.0</td>\n",
       "      <td>1103</td>\n",
       "      <td>0.0</td>\n",
       "      <td>0.0</td>\n",
       "      <td>4.17</td>\n",
       "      <td>0.00</td>\n",
       "    </tr>\n",
       "    <tr>\n",
       "      <th>3</th>\n",
       "      <td>7001204172</td>\n",
       "      <td>109</td>\n",
       "      <td>0.0</td>\n",
       "      <td>0.0</td>\n",
       "      <td>0.0</td>\n",
       "      <td>6/30/2014</td>\n",
       "      <td>7/31/2014</td>\n",
       "      <td>8/31/2014</td>\n",
       "      <td>9/30/2014</td>\n",
       "      <td>221.338</td>\n",
       "      <td>...</td>\n",
       "      <td>0</td>\n",
       "      <td>NaN</td>\n",
       "      <td>NaN</td>\n",
       "      <td>NaN</td>\n",
       "      <td>NaN</td>\n",
       "      <td>2491</td>\n",
       "      <td>0.0</td>\n",
       "      <td>0.0</td>\n",
       "      <td>0.00</td>\n",
       "      <td>0.00</td>\n",
       "    </tr>\n",
       "    <tr>\n",
       "      <th>4</th>\n",
       "      <td>7000142493</td>\n",
       "      <td>109</td>\n",
       "      <td>0.0</td>\n",
       "      <td>0.0</td>\n",
       "      <td>0.0</td>\n",
       "      <td>6/30/2014</td>\n",
       "      <td>7/31/2014</td>\n",
       "      <td>8/31/2014</td>\n",
       "      <td>9/30/2014</td>\n",
       "      <td>261.636</td>\n",
       "      <td>...</td>\n",
       "      <td>0</td>\n",
       "      <td>0.0</td>\n",
       "      <td>NaN</td>\n",
       "      <td>NaN</td>\n",
       "      <td>NaN</td>\n",
       "      <td>1526</td>\n",
       "      <td>0.0</td>\n",
       "      <td>0.0</td>\n",
       "      <td>0.00</td>\n",
       "      <td>0.00</td>\n",
       "    </tr>\n",
       "  </tbody>\n",
       "</table>\n",
       "<p>5 rows × 226 columns</p>\n",
       "</div>"
      ],
      "text/plain": [
       "   mobile_number  circle_id  loc_og_t2o_mou  std_og_t2o_mou  loc_ic_t2o_mou  \\\n",
       "0     7000842753        109             0.0             0.0             0.0   \n",
       "1     7001865778        109             0.0             0.0             0.0   \n",
       "2     7001625959        109             0.0             0.0             0.0   \n",
       "3     7001204172        109             0.0             0.0             0.0   \n",
       "4     7000142493        109             0.0             0.0             0.0   \n",
       "\n",
       "  last_date_of_month_6 last_date_of_month_7 last_date_of_month_8  \\\n",
       "0            6/30/2014            7/31/2014            8/31/2014   \n",
       "1            6/30/2014            7/31/2014            8/31/2014   \n",
       "2            6/30/2014            7/31/2014            8/31/2014   \n",
       "3            6/30/2014            7/31/2014            8/31/2014   \n",
       "4            6/30/2014            7/31/2014            8/31/2014   \n",
       "\n",
       "  last_date_of_month_9   arpu_6  ...  sachet_3g_9  fb_user_6  fb_user_7  \\\n",
       "0            9/30/2014  197.385  ...            0        1.0        1.0   \n",
       "1            9/30/2014   34.047  ...            0        NaN        1.0   \n",
       "2            9/30/2014  167.690  ...            0        NaN        NaN   \n",
       "3            9/30/2014  221.338  ...            0        NaN        NaN   \n",
       "4            9/30/2014  261.636  ...            0        0.0        NaN   \n",
       "\n",
       "   fb_user_8  fb_user_9   aon  aug_vbc_3g  jul_vbc_3g  jun_vbc_3g  sep_vbc_3g  \n",
       "0        1.0        NaN   968        30.4         0.0      101.20        3.58  \n",
       "1        1.0        NaN  1006         0.0         0.0        0.00        0.00  \n",
       "2        NaN        1.0  1103         0.0         0.0        4.17        0.00  \n",
       "3        NaN        NaN  2491         0.0         0.0        0.00        0.00  \n",
       "4        NaN        NaN  1526         0.0         0.0        0.00        0.00  \n",
       "\n",
       "[5 rows x 226 columns]"
      ]
     },
     "execution_count": 2,
     "metadata": {},
     "output_type": "execute_result"
    }
   ],
   "source": [
    "# Reading the data\n",
    "\n",
    "data = pd.read_csv('telecom_churn_data.csv')\n",
    "data.head()"
   ]
  },
  {
   "cell_type": "code",
   "execution_count": 3,
   "metadata": {},
   "outputs": [
    {
     "data": {
      "text/plain": [
       "(99999, 226)"
      ]
     },
     "execution_count": 3,
     "metadata": {},
     "output_type": "execute_result"
    }
   ],
   "source": [
    "data.shape"
   ]
  },
  {
   "cell_type": "code",
   "execution_count": 4,
   "metadata": {},
   "outputs": [
    {
     "name": "stdout",
     "output_type": "stream",
     "text": [
      "<class 'pandas.core.frame.DataFrame'>\n",
      "RangeIndex: 99999 entries, 0 to 99998\n",
      "Columns: 226 entries, mobile_number to sep_vbc_3g\n",
      "dtypes: float64(179), int64(35), object(12)\n",
      "memory usage: 172.4+ MB\n"
     ]
    }
   ],
   "source": [
    "data.info()"
   ]
  },
  {
   "cell_type": "code",
   "execution_count": 5,
   "metadata": {},
   "outputs": [
    {
     "data": {
      "text/html": [
       "<div>\n",
       "<style scoped>\n",
       "    .dataframe tbody tr th:only-of-type {\n",
       "        vertical-align: middle;\n",
       "    }\n",
       "\n",
       "    .dataframe tbody tr th {\n",
       "        vertical-align: top;\n",
       "    }\n",
       "\n",
       "    .dataframe thead th {\n",
       "        text-align: right;\n",
       "    }\n",
       "</style>\n",
       "<table border=\"1\" class=\"dataframe\">\n",
       "  <thead>\n",
       "    <tr style=\"text-align: right;\">\n",
       "      <th></th>\n",
       "      <th>mobile_number</th>\n",
       "      <th>circle_id</th>\n",
       "      <th>loc_og_t2o_mou</th>\n",
       "      <th>std_og_t2o_mou</th>\n",
       "      <th>loc_ic_t2o_mou</th>\n",
       "      <th>arpu_6</th>\n",
       "      <th>arpu_7</th>\n",
       "      <th>arpu_8</th>\n",
       "      <th>arpu_9</th>\n",
       "      <th>onnet_mou_6</th>\n",
       "      <th>...</th>\n",
       "      <th>sachet_3g_9</th>\n",
       "      <th>fb_user_6</th>\n",
       "      <th>fb_user_7</th>\n",
       "      <th>fb_user_8</th>\n",
       "      <th>fb_user_9</th>\n",
       "      <th>aon</th>\n",
       "      <th>aug_vbc_3g</th>\n",
       "      <th>jul_vbc_3g</th>\n",
       "      <th>jun_vbc_3g</th>\n",
       "      <th>sep_vbc_3g</th>\n",
       "    </tr>\n",
       "  </thead>\n",
       "  <tbody>\n",
       "    <tr>\n",
       "      <th>count</th>\n",
       "      <td>9.999900e+04</td>\n",
       "      <td>99999.0</td>\n",
       "      <td>98981.0</td>\n",
       "      <td>98981.0</td>\n",
       "      <td>98981.0</td>\n",
       "      <td>99999.000000</td>\n",
       "      <td>99999.000000</td>\n",
       "      <td>99999.000000</td>\n",
       "      <td>99999.000000</td>\n",
       "      <td>96062.000000</td>\n",
       "      <td>...</td>\n",
       "      <td>99999.000000</td>\n",
       "      <td>25153.000000</td>\n",
       "      <td>25571.000000</td>\n",
       "      <td>26339.000000</td>\n",
       "      <td>25922.000000</td>\n",
       "      <td>99999.000000</td>\n",
       "      <td>99999.000000</td>\n",
       "      <td>99999.000000</td>\n",
       "      <td>99999.000000</td>\n",
       "      <td>99999.000000</td>\n",
       "    </tr>\n",
       "    <tr>\n",
       "      <th>mean</th>\n",
       "      <td>7.001207e+09</td>\n",
       "      <td>109.0</td>\n",
       "      <td>0.0</td>\n",
       "      <td>0.0</td>\n",
       "      <td>0.0</td>\n",
       "      <td>282.987358</td>\n",
       "      <td>278.536648</td>\n",
       "      <td>279.154731</td>\n",
       "      <td>261.645069</td>\n",
       "      <td>132.395875</td>\n",
       "      <td>...</td>\n",
       "      <td>0.084581</td>\n",
       "      <td>0.914404</td>\n",
       "      <td>0.908764</td>\n",
       "      <td>0.890808</td>\n",
       "      <td>0.860968</td>\n",
       "      <td>1219.854749</td>\n",
       "      <td>68.170248</td>\n",
       "      <td>66.839062</td>\n",
       "      <td>60.021204</td>\n",
       "      <td>3.299373</td>\n",
       "    </tr>\n",
       "    <tr>\n",
       "      <th>std</th>\n",
       "      <td>6.956694e+05</td>\n",
       "      <td>0.0</td>\n",
       "      <td>0.0</td>\n",
       "      <td>0.0</td>\n",
       "      <td>0.0</td>\n",
       "      <td>328.439770</td>\n",
       "      <td>338.156291</td>\n",
       "      <td>344.474791</td>\n",
       "      <td>341.998630</td>\n",
       "      <td>297.207406</td>\n",
       "      <td>...</td>\n",
       "      <td>0.650457</td>\n",
       "      <td>0.279772</td>\n",
       "      <td>0.287950</td>\n",
       "      <td>0.311885</td>\n",
       "      <td>0.345987</td>\n",
       "      <td>954.733842</td>\n",
       "      <td>267.580450</td>\n",
       "      <td>271.201856</td>\n",
       "      <td>253.938223</td>\n",
       "      <td>32.408353</td>\n",
       "    </tr>\n",
       "    <tr>\n",
       "      <th>min</th>\n",
       "      <td>7.000000e+09</td>\n",
       "      <td>109.0</td>\n",
       "      <td>0.0</td>\n",
       "      <td>0.0</td>\n",
       "      <td>0.0</td>\n",
       "      <td>-2258.709000</td>\n",
       "      <td>-2014.045000</td>\n",
       "      <td>-945.808000</td>\n",
       "      <td>-1899.505000</td>\n",
       "      <td>0.000000</td>\n",
       "      <td>...</td>\n",
       "      <td>0.000000</td>\n",
       "      <td>0.000000</td>\n",
       "      <td>0.000000</td>\n",
       "      <td>0.000000</td>\n",
       "      <td>0.000000</td>\n",
       "      <td>180.000000</td>\n",
       "      <td>0.000000</td>\n",
       "      <td>0.000000</td>\n",
       "      <td>0.000000</td>\n",
       "      <td>0.000000</td>\n",
       "    </tr>\n",
       "    <tr>\n",
       "      <th>25%</th>\n",
       "      <td>7.000606e+09</td>\n",
       "      <td>109.0</td>\n",
       "      <td>0.0</td>\n",
       "      <td>0.0</td>\n",
       "      <td>0.0</td>\n",
       "      <td>93.411500</td>\n",
       "      <td>86.980500</td>\n",
       "      <td>84.126000</td>\n",
       "      <td>62.685000</td>\n",
       "      <td>7.380000</td>\n",
       "      <td>...</td>\n",
       "      <td>0.000000</td>\n",
       "      <td>1.000000</td>\n",
       "      <td>1.000000</td>\n",
       "      <td>1.000000</td>\n",
       "      <td>1.000000</td>\n",
       "      <td>467.000000</td>\n",
       "      <td>0.000000</td>\n",
       "      <td>0.000000</td>\n",
       "      <td>0.000000</td>\n",
       "      <td>0.000000</td>\n",
       "    </tr>\n",
       "    <tr>\n",
       "      <th>50%</th>\n",
       "      <td>7.001205e+09</td>\n",
       "      <td>109.0</td>\n",
       "      <td>0.0</td>\n",
       "      <td>0.0</td>\n",
       "      <td>0.0</td>\n",
       "      <td>197.704000</td>\n",
       "      <td>191.640000</td>\n",
       "      <td>192.080000</td>\n",
       "      <td>176.849000</td>\n",
       "      <td>34.310000</td>\n",
       "      <td>...</td>\n",
       "      <td>0.000000</td>\n",
       "      <td>1.000000</td>\n",
       "      <td>1.000000</td>\n",
       "      <td>1.000000</td>\n",
       "      <td>1.000000</td>\n",
       "      <td>863.000000</td>\n",
       "      <td>0.000000</td>\n",
       "      <td>0.000000</td>\n",
       "      <td>0.000000</td>\n",
       "      <td>0.000000</td>\n",
       "    </tr>\n",
       "    <tr>\n",
       "      <th>75%</th>\n",
       "      <td>7.001812e+09</td>\n",
       "      <td>109.0</td>\n",
       "      <td>0.0</td>\n",
       "      <td>0.0</td>\n",
       "      <td>0.0</td>\n",
       "      <td>371.060000</td>\n",
       "      <td>365.344500</td>\n",
       "      <td>369.370500</td>\n",
       "      <td>353.466500</td>\n",
       "      <td>118.740000</td>\n",
       "      <td>...</td>\n",
       "      <td>0.000000</td>\n",
       "      <td>1.000000</td>\n",
       "      <td>1.000000</td>\n",
       "      <td>1.000000</td>\n",
       "      <td>1.000000</td>\n",
       "      <td>1807.500000</td>\n",
       "      <td>0.000000</td>\n",
       "      <td>0.000000</td>\n",
       "      <td>0.000000</td>\n",
       "      <td>0.000000</td>\n",
       "    </tr>\n",
       "    <tr>\n",
       "      <th>max</th>\n",
       "      <td>7.002411e+09</td>\n",
       "      <td>109.0</td>\n",
       "      <td>0.0</td>\n",
       "      <td>0.0</td>\n",
       "      <td>0.0</td>\n",
       "      <td>27731.088000</td>\n",
       "      <td>35145.834000</td>\n",
       "      <td>33543.624000</td>\n",
       "      <td>38805.617000</td>\n",
       "      <td>7376.710000</td>\n",
       "      <td>...</td>\n",
       "      <td>49.000000</td>\n",
       "      <td>1.000000</td>\n",
       "      <td>1.000000</td>\n",
       "      <td>1.000000</td>\n",
       "      <td>1.000000</td>\n",
       "      <td>4337.000000</td>\n",
       "      <td>12916.220000</td>\n",
       "      <td>9165.600000</td>\n",
       "      <td>11166.210000</td>\n",
       "      <td>2618.570000</td>\n",
       "    </tr>\n",
       "  </tbody>\n",
       "</table>\n",
       "<p>8 rows × 214 columns</p>\n",
       "</div>"
      ],
      "text/plain": [
       "       mobile_number  circle_id  loc_og_t2o_mou  std_og_t2o_mou  \\\n",
       "count   9.999900e+04    99999.0         98981.0         98981.0   \n",
       "mean    7.001207e+09      109.0             0.0             0.0   \n",
       "std     6.956694e+05        0.0             0.0             0.0   \n",
       "min     7.000000e+09      109.0             0.0             0.0   \n",
       "25%     7.000606e+09      109.0             0.0             0.0   \n",
       "50%     7.001205e+09      109.0             0.0             0.0   \n",
       "75%     7.001812e+09      109.0             0.0             0.0   \n",
       "max     7.002411e+09      109.0             0.0             0.0   \n",
       "\n",
       "       loc_ic_t2o_mou        arpu_6        arpu_7        arpu_8        arpu_9  \\\n",
       "count         98981.0  99999.000000  99999.000000  99999.000000  99999.000000   \n",
       "mean              0.0    282.987358    278.536648    279.154731    261.645069   \n",
       "std               0.0    328.439770    338.156291    344.474791    341.998630   \n",
       "min               0.0  -2258.709000  -2014.045000   -945.808000  -1899.505000   \n",
       "25%               0.0     93.411500     86.980500     84.126000     62.685000   \n",
       "50%               0.0    197.704000    191.640000    192.080000    176.849000   \n",
       "75%               0.0    371.060000    365.344500    369.370500    353.466500   \n",
       "max               0.0  27731.088000  35145.834000  33543.624000  38805.617000   \n",
       "\n",
       "        onnet_mou_6  ...   sachet_3g_9     fb_user_6     fb_user_7  \\\n",
       "count  96062.000000  ...  99999.000000  25153.000000  25571.000000   \n",
       "mean     132.395875  ...      0.084581      0.914404      0.908764   \n",
       "std      297.207406  ...      0.650457      0.279772      0.287950   \n",
       "min        0.000000  ...      0.000000      0.000000      0.000000   \n",
       "25%        7.380000  ...      0.000000      1.000000      1.000000   \n",
       "50%       34.310000  ...      0.000000      1.000000      1.000000   \n",
       "75%      118.740000  ...      0.000000      1.000000      1.000000   \n",
       "max     7376.710000  ...     49.000000      1.000000      1.000000   \n",
       "\n",
       "          fb_user_8     fb_user_9           aon    aug_vbc_3g    jul_vbc_3g  \\\n",
       "count  26339.000000  25922.000000  99999.000000  99999.000000  99999.000000   \n",
       "mean       0.890808      0.860968   1219.854749     68.170248     66.839062   \n",
       "std        0.311885      0.345987    954.733842    267.580450    271.201856   \n",
       "min        0.000000      0.000000    180.000000      0.000000      0.000000   \n",
       "25%        1.000000      1.000000    467.000000      0.000000      0.000000   \n",
       "50%        1.000000      1.000000    863.000000      0.000000      0.000000   \n",
       "75%        1.000000      1.000000   1807.500000      0.000000      0.000000   \n",
       "max        1.000000      1.000000   4337.000000  12916.220000   9165.600000   \n",
       "\n",
       "         jun_vbc_3g    sep_vbc_3g  \n",
       "count  99999.000000  99999.000000  \n",
       "mean      60.021204      3.299373  \n",
       "std      253.938223     32.408353  \n",
       "min        0.000000      0.000000  \n",
       "25%        0.000000      0.000000  \n",
       "50%        0.000000      0.000000  \n",
       "75%        0.000000      0.000000  \n",
       "max    11166.210000   2618.570000  \n",
       "\n",
       "[8 rows x 214 columns]"
      ]
     },
     "execution_count": 5,
     "metadata": {},
     "output_type": "execute_result"
    }
   ],
   "source": [
    "data.describe()"
   ]
  },
  {
   "cell_type": "markdown",
   "metadata": {},
   "source": [
    "### Exploratory Data Analysis"
   ]
  },
  {
   "cell_type": "markdown",
   "metadata": {},
   "source": [
    "Let us look at some of the features which may have an impact of the study"
   ]
  },
  {
   "cell_type": "code",
   "execution_count": 6,
   "metadata": {},
   "outputs": [
    {
     "data": {
      "text/plain": [
       "Index(['mobile_number', 'circle_id', 'loc_og_t2o_mou', 'std_og_t2o_mou',\n",
       "       'loc_ic_t2o_mou', 'last_date_of_month_6', 'last_date_of_month_7',\n",
       "       'last_date_of_month_8', 'last_date_of_month_9', 'arpu_6',\n",
       "       ...\n",
       "       'sachet_3g_9', 'fb_user_6', 'fb_user_7', 'fb_user_8', 'fb_user_9',\n",
       "       'aon', 'aug_vbc_3g', 'jul_vbc_3g', 'jun_vbc_3g', 'sep_vbc_3g'],\n",
       "      dtype='object', length=226)"
      ]
     },
     "execution_count": 6,
     "metadata": {},
     "output_type": "execute_result"
    }
   ],
   "source": [
    "data.columns"
   ]
  },
  {
   "cell_type": "code",
   "execution_count": 7,
   "metadata": {},
   "outputs": [
    {
     "data": {
      "text/plain": [
       "109    99999\n",
       "Name: circle_id, dtype: int64"
      ]
     },
     "execution_count": 7,
     "metadata": {},
     "output_type": "execute_result"
    }
   ],
   "source": [
    "# circle_id\n",
    "\n",
    "data['circle_id'].value_counts()"
   ]
  },
  {
   "cell_type": "markdown",
   "metadata": {},
   "source": [
    "We see that all the data which is being studied is from the same Telecom Circle Area. Hence, the feature will be dropped as it does not add any insights."
   ]
  },
  {
   "cell_type": "code",
   "execution_count": 8,
   "metadata": {},
   "outputs": [
    {
     "data": {
      "text/html": [
       "<div>\n",
       "<style scoped>\n",
       "    .dataframe tbody tr th:only-of-type {\n",
       "        vertical-align: middle;\n",
       "    }\n",
       "\n",
       "    .dataframe tbody tr th {\n",
       "        vertical-align: top;\n",
       "    }\n",
       "\n",
       "    .dataframe thead th {\n",
       "        text-align: right;\n",
       "    }\n",
       "</style>\n",
       "<table border=\"1\" class=\"dataframe\">\n",
       "  <thead>\n",
       "    <tr style=\"text-align: right;\">\n",
       "      <th></th>\n",
       "      <th>loc_og_t2o_mou</th>\n",
       "      <th>std_og_t2o_mou</th>\n",
       "      <th>loc_ic_t2o_mou</th>\n",
       "    </tr>\n",
       "  </thead>\n",
       "  <tbody>\n",
       "    <tr>\n",
       "      <th>0.0</th>\n",
       "      <td>98981</td>\n",
       "      <td>98981</td>\n",
       "      <td>98981</td>\n",
       "    </tr>\n",
       "  </tbody>\n",
       "</table>\n",
       "</div>"
      ],
      "text/plain": [
       "     loc_og_t2o_mou  std_og_t2o_mou  loc_ic_t2o_mou\n",
       "0.0           98981           98981           98981"
      ]
     },
     "execution_count": 8,
     "metadata": {},
     "output_type": "execute_result"
    }
   ],
   "source": [
    "# let us observe calls to find columns which are not important and can be dropped\n",
    "# Operator T to other operator fixed line - T2O\n",
    "\n",
    "data[[\"loc_og_t2o_mou\", \"std_og_t2o_mou\", \"loc_ic_t2o_mou\"]].apply(pd.Series.value_counts)"
   ]
  },
  {
   "cell_type": "code",
   "execution_count": 9,
   "metadata": {},
   "outputs": [
    {
     "data": {
      "text/html": [
       "<div>\n",
       "<style scoped>\n",
       "    .dataframe tbody tr th:only-of-type {\n",
       "        vertical-align: middle;\n",
       "    }\n",
       "\n",
       "    .dataframe tbody tr th {\n",
       "        vertical-align: top;\n",
       "    }\n",
       "\n",
       "    .dataframe thead th {\n",
       "        text-align: right;\n",
       "    }\n",
       "</style>\n",
       "<table border=\"1\" class=\"dataframe\">\n",
       "  <thead>\n",
       "    <tr style=\"text-align: right;\">\n",
       "      <th></th>\n",
       "      <th>std_ic_t2o_mou_6</th>\n",
       "      <th>std_ic_t2o_mou_7</th>\n",
       "      <th>std_ic_t2o_mou_8</th>\n",
       "      <th>std_ic_t2o_mou_9</th>\n",
       "    </tr>\n",
       "  </thead>\n",
       "  <tbody>\n",
       "    <tr>\n",
       "      <th>0.0</th>\n",
       "      <td>96062</td>\n",
       "      <td>96140</td>\n",
       "      <td>94621</td>\n",
       "      <td>92254</td>\n",
       "    </tr>\n",
       "  </tbody>\n",
       "</table>\n",
       "</div>"
      ],
      "text/plain": [
       "     std_ic_t2o_mou_6  std_ic_t2o_mou_7  std_ic_t2o_mou_8  std_ic_t2o_mou_9\n",
       "0.0             96062             96140             94621             92254"
      ]
     },
     "execution_count": 9,
     "metadata": {},
     "output_type": "execute_result"
    }
   ],
   "source": [
    "# Since we observe that there are no calls happening from operator T to other operator fixed line -\n",
    "# we can observe all the other columns related to T20 if any additional information is added else remove them too\n",
    "\n",
    "data[[\"std_ic_t2o_mou_6\", \"std_ic_t2o_mou_7\", \"std_ic_t2o_mou_8\", \"std_ic_t2o_mou_9\"]].apply(pd.Series.value_counts)"
   ]
  },
  {
   "cell_type": "code",
   "execution_count": 10,
   "metadata": {},
   "outputs": [
    {
     "data": {
      "text/html": [
       "<div>\n",
       "<style scoped>\n",
       "    .dataframe tbody tr th:only-of-type {\n",
       "        vertical-align: middle;\n",
       "    }\n",
       "\n",
       "    .dataframe tbody tr th {\n",
       "        vertical-align: top;\n",
       "    }\n",
       "\n",
       "    .dataframe thead th {\n",
       "        text-align: right;\n",
       "    }\n",
       "</style>\n",
       "<table border=\"1\" class=\"dataframe\">\n",
       "  <thead>\n",
       "    <tr style=\"text-align: right;\">\n",
       "      <th></th>\n",
       "      <th>std_og_t2c_mou_6</th>\n",
       "      <th>std_og_t2c_mou_7</th>\n",
       "      <th>std_og_t2c_mou_8</th>\n",
       "      <th>std_og_t2c_mou_9</th>\n",
       "    </tr>\n",
       "  </thead>\n",
       "  <tbody>\n",
       "    <tr>\n",
       "      <th>0.0</th>\n",
       "      <td>96062</td>\n",
       "      <td>96140</td>\n",
       "      <td>94621</td>\n",
       "      <td>92254</td>\n",
       "    </tr>\n",
       "  </tbody>\n",
       "</table>\n",
       "</div>"
      ],
      "text/plain": [
       "     std_og_t2c_mou_6  std_og_t2c_mou_7  std_og_t2c_mou_8  std_og_t2c_mou_9\n",
       "0.0             96062             96140             94621             92254"
      ]
     },
     "execution_count": 10,
     "metadata": {},
     "output_type": "execute_result"
    }
   ],
   "source": [
    "# Analyse the calls made to Customer Care in the last 4 months\n",
    "\n",
    "data[[\"std_og_t2c_mou_6\", \"std_og_t2c_mou_7\", \"std_og_t2c_mou_8\", \"std_og_t2c_mou_9\"]].apply(pd.Series.value_counts)"
   ]
  },
  {
   "cell_type": "code",
   "execution_count": 11,
   "metadata": {},
   "outputs": [],
   "source": [
    "# Let us remove all the above columns analysed along with mobile_number as they do not add any value to the analysis\n",
    "\n",
    "data.drop([\"mobile_number\",\"circle_id\",\"loc_og_t2o_mou\", \"std_og_t2o_mou\", \"loc_ic_t2o_mou\"],axis=1,inplace=True)\n",
    "data.drop([\"std_ic_t2o_mou_6\", \"std_ic_t2o_mou_7\", \"std_ic_t2o_mou_8\", \"std_ic_t2o_mou_9\"],axis=1,inplace=True)\n",
    "data.drop([\"std_og_t2c_mou_6\", \"std_og_t2c_mou_7\", \"std_og_t2c_mou_8\", \"std_og_t2c_mou_9\"],axis=1,inplace=True)"
   ]
  },
  {
   "cell_type": "code",
   "execution_count": 12,
   "metadata": {},
   "outputs": [
    {
     "data": {
      "text/plain": [
       "(99999, 213)"
      ]
     },
     "execution_count": 12,
     "metadata": {},
     "output_type": "execute_result"
    }
   ],
   "source": [
    "data.shape"
   ]
  },
  {
   "cell_type": "code",
   "execution_count": 13,
   "metadata": {},
   "outputs": [
    {
     "data": {
      "text/plain": [
       "Index(['last_date_of_month_6', 'last_date_of_month_7', 'last_date_of_month_8',\n",
       "       'last_date_of_month_9', 'arpu_6', 'arpu_7', 'arpu_8', 'arpu_9',\n",
       "       'onnet_mou_6', 'onnet_mou_7',\n",
       "       ...\n",
       "       'sachet_3g_9', 'fb_user_6', 'fb_user_7', 'fb_user_8', 'fb_user_9',\n",
       "       'aon', 'aug_vbc_3g', 'jul_vbc_3g', 'jun_vbc_3g', 'sep_vbc_3g'],\n",
       "      dtype='object', length=213)"
      ]
     },
     "execution_count": 13,
     "metadata": {},
     "output_type": "execute_result"
    }
   ],
   "source": [
    "data.columns"
   ]
  },
  {
   "cell_type": "markdown",
   "metadata": {},
   "source": [
    "#### Let us see the values of Average Revenue per User (ARPU) in the 4 months"
   ]
  },
  {
   "cell_type": "code",
   "execution_count": 14,
   "metadata": {},
   "outputs": [
    {
     "name": "stdout",
     "output_type": "stream",
     "text": [
      "ARPU - June\n",
      "Minimum: -2258.709\n",
      "Maximum: 27731.088\n"
     ]
    }
   ],
   "source": [
    "print(\"ARPU - June\")\n",
    "print(\"Minimum: {min}\".format(min = min(data['arpu_6'])))\n",
    "print(\"Maximum: {max}\".format(max = max(data['arpu_6'])))"
   ]
  },
  {
   "cell_type": "code",
   "execution_count": 15,
   "metadata": {},
   "outputs": [
    {
     "name": "stdout",
     "output_type": "stream",
     "text": [
      "ARPU - July\n",
      "Minimum: -2014.045\n",
      "Maximum: 35145.834\n"
     ]
    }
   ],
   "source": [
    "print(\"ARPU - July\")\n",
    "print(\"Minimum: {min}\".format(min = min(data['arpu_7'])))\n",
    "print(\"Maximum: {max}\".format(max = max(data['arpu_7'])))"
   ]
  },
  {
   "cell_type": "code",
   "execution_count": 16,
   "metadata": {},
   "outputs": [
    {
     "name": "stdout",
     "output_type": "stream",
     "text": [
      "ARPU - Aug\n",
      "Minimum: -945.808\n",
      "Maximum: 33543.624\n"
     ]
    }
   ],
   "source": [
    "print(\"ARPU - Aug\")\n",
    "print(\"Minimum: {min}\".format(min = min(data['arpu_8'])))\n",
    "print(\"Maximum: {max}\".format(max = max(data['arpu_8'])))"
   ]
  },
  {
   "cell_type": "code",
   "execution_count": 17,
   "metadata": {},
   "outputs": [
    {
     "name": "stdout",
     "output_type": "stream",
     "text": [
      "ARPU - Sept\n",
      "Minimum: -1899.505\n",
      "Maximum: 38805.617\n"
     ]
    }
   ],
   "source": [
    "print(\"ARPU - Sept\")\n",
    "print(\"Minimum: {min}\".format(min = min(data['arpu_9'])))\n",
    "print(\"Maximum: {max}\".format(max = max(data['arpu_9'])))"
   ]
  },
  {
   "cell_type": "markdown",
   "metadata": {},
   "source": [
    "We see there there was an increase in the ARPU in Sept month"
   ]
  },
  {
   "cell_type": "markdown",
   "metadata": {},
   "source": [
    "#### Analyse the Age of Network feature"
   ]
  },
  {
   "cell_type": "code",
   "execution_count": 18,
   "metadata": {},
   "outputs": [
    {
     "data": {
      "text/plain": [
       "(82876, 213)"
      ]
     },
     "execution_count": 18,
     "metadata": {},
     "output_type": "execute_result"
    }
   ],
   "source": [
    "# customers who are with the network from more than a year\n",
    "\n",
    "oldCustomers = data[data['aon'] >= 365 ]\n",
    "oldCustomers.shape"
   ]
  },
  {
   "cell_type": "code",
   "execution_count": 19,
   "metadata": {},
   "outputs": [
    {
     "data": {
      "text/plain": [
       "(17123, 213)"
      ]
     },
     "execution_count": 19,
     "metadata": {},
     "output_type": "execute_result"
    }
   ],
   "source": [
    "# customers who are with the network for less than a year\n",
    "\n",
    "newCustomers = data[data['aon'] < 365 ]\n",
    "newCustomers.shape"
   ]
  },
  {
   "cell_type": "code",
   "execution_count": 20,
   "metadata": {},
   "outputs": [
    {
     "data": {
      "text/plain": [
       "82.87682876828768"
      ]
     },
     "execution_count": 20,
     "metadata": {},
     "output_type": "execute_result"
    }
   ],
   "source": [
    "len(oldCustomers)/len(data) * 100"
   ]
  },
  {
   "cell_type": "markdown",
   "metadata": {},
   "source": [
    "We observe that more than 80% of data is of old customers who are with the network from more than a year"
   ]
  },
  {
   "cell_type": "code",
   "execution_count": 21,
   "metadata": {},
   "outputs": [
    {
     "data": {
      "text/plain": [
       "0"
      ]
     },
     "execution_count": 21,
     "metadata": {},
     "output_type": "execute_result"
    }
   ],
   "source": [
    "data['aon'].isnull().sum()"
   ]
  },
  {
   "cell_type": "code",
   "execution_count": 22,
   "metadata": {},
   "outputs": [
    {
     "data": {
      "text/plain": [
       "Index(['last_date_of_month_6', 'last_date_of_month_7', 'last_date_of_month_8',\n",
       "       'last_date_of_month_9', 'arpu_6', 'arpu_7', 'arpu_8', 'arpu_9',\n",
       "       'onnet_mou_6', 'onnet_mou_7',\n",
       "       ...\n",
       "       'sachet_3g_9', 'fb_user_6', 'fb_user_7', 'fb_user_8', 'fb_user_9',\n",
       "       'aon', 'aug_vbc_3g', 'jul_vbc_3g', 'jun_vbc_3g', 'sep_vbc_3g'],\n",
       "      dtype='object', length=213)"
      ]
     },
     "execution_count": 22,
     "metadata": {},
     "output_type": "execute_result"
    }
   ],
   "source": [
    "data.columns"
   ]
  },
  {
   "cell_type": "markdown",
   "metadata": {},
   "source": [
    "All the columns related to recharge, calls(loc, std, iSD), internet will be of priority and we will keep them"
   ]
  },
  {
   "cell_type": "markdown",
   "metadata": {},
   "source": [
    "### Filtering High Value Customers"
   ]
  },
  {
   "cell_type": "markdown",
   "metadata": {},
   "source": [
    "In churn prediction, we assume that there are three phases of customer lifecycle:\n",
    "    <br>1) June & July - the first 2 months are the ‘good’ phase - the customer is happy with the service and behaves as usual.\n",
    "    <br>2) August - the third month is the ‘action’ phase - customer experience starts to sore in this phase\n",
    "    <br>3) September - the fourth month is the ‘churn’ phase -the customer is said to have churned"
   ]
  },
  {
   "cell_type": "code",
   "execution_count": 23,
   "metadata": {},
   "outputs": [
    {
     "data": {
      "text/plain": [
       "Index(['total_rech_num_6', 'total_rech_num_7', 'total_rech_num_8',\n",
       "       'total_rech_num_9', 'total_rech_amt_6', 'total_rech_amt_7',\n",
       "       'total_rech_amt_8', 'total_rech_amt_9', 'max_rech_amt_6',\n",
       "       'max_rech_amt_7', 'max_rech_amt_8', 'max_rech_amt_9',\n",
       "       'date_of_last_rech_6', 'date_of_last_rech_7', 'date_of_last_rech_8',\n",
       "       'date_of_last_rech_9', 'date_of_last_rech_data_6',\n",
       "       'date_of_last_rech_data_7', 'date_of_last_rech_data_8',\n",
       "       'date_of_last_rech_data_9', 'total_rech_data_6', 'total_rech_data_7',\n",
       "       'total_rech_data_8', 'total_rech_data_9', 'max_rech_data_6',\n",
       "       'max_rech_data_7', 'max_rech_data_8', 'max_rech_data_9',\n",
       "       'count_rech_2g_6', 'count_rech_2g_7', 'count_rech_2g_8',\n",
       "       'count_rech_2g_9', 'count_rech_3g_6', 'count_rech_3g_7',\n",
       "       'count_rech_3g_8', 'count_rech_3g_9', 'av_rech_amt_data_6',\n",
       "       'av_rech_amt_data_7', 'av_rech_amt_data_8', 'av_rech_amt_data_9'],\n",
       "      dtype='object')"
      ]
     },
     "execution_count": 23,
     "metadata": {},
     "output_type": "execute_result"
    }
   ],
   "source": [
    "# Get all the columns containing recharge\n",
    "\n",
    "recharge_columns = data.columns[data.columns.str.contains('rech')]\n",
    "recharge_columns"
   ]
  },
  {
   "cell_type": "markdown",
   "metadata": {},
   "source": [
    "From the above features we can consider total_rech_amt_*(Total recharge amount), max_rech_amt_*(Maximum recharge amount), \n",
    "total_rech_data_*(Total recharge of data), max_rech_data_*(Maximum recharge data) and av_rech_amt_data_*(Average recharge amount for data) for analysis."
   ]
  },
  {
   "cell_type": "code",
   "execution_count": 24,
   "metadata": {},
   "outputs": [
    {
     "data": {
      "text/plain": [
       "['total_rech_amt_6',\n",
       " 'total_rech_amt_7',\n",
       " 'total_rech_amt_8',\n",
       " 'total_rech_amt_9',\n",
       " 'max_rech_amt_6',\n",
       " 'max_rech_amt_7',\n",
       " 'max_rech_amt_8',\n",
       " 'max_rech_amt_9',\n",
       " 'total_rech_data_6',\n",
       " 'total_rech_data_7',\n",
       " 'total_rech_data_8',\n",
       " 'total_rech_data_9',\n",
       " 'max_rech_data_6',\n",
       " 'max_rech_data_7',\n",
       " 'max_rech_data_8',\n",
       " 'max_rech_data_9',\n",
       " 'av_rech_amt_data_6',\n",
       " 'av_rech_amt_data_7',\n",
       " 'av_rech_amt_data_8',\n",
       " 'av_rech_amt_data_9']"
      ]
     },
     "execution_count": 24,
     "metadata": {},
     "output_type": "execute_result"
    }
   ],
   "source": [
    "rech_filt_columns = ['total_rech_amt_6', 'total_rech_amt_7',\n",
    "       'total_rech_amt_8', 'total_rech_amt_9', 'max_rech_amt_6',\n",
    "       'max_rech_amt_7', 'max_rech_amt_8', 'max_rech_amt_9','total_rech_data_6', 'total_rech_data_7',\n",
    "       'total_rech_data_8', 'total_rech_data_9', 'max_rech_data_6',\n",
    "       'max_rech_data_7', 'max_rech_data_8', 'max_rech_data_9','av_rech_amt_data_6',\n",
    "       'av_rech_amt_data_7', 'av_rech_amt_data_8', 'av_rech_amt_data_9']\n",
    "rech_filt_columns"
   ]
  },
  {
   "cell_type": "code",
   "execution_count": 25,
   "metadata": {},
   "outputs": [
    {
     "data": {
      "text/plain": [
       "total_rech_amt_6       0.000000\n",
       "total_rech_amt_7       0.000000\n",
       "total_rech_amt_8       0.000000\n",
       "total_rech_amt_9       0.000000\n",
       "max_rech_amt_6         0.000000\n",
       "max_rech_amt_7         0.000000\n",
       "max_rech_amt_8         0.000000\n",
       "max_rech_amt_9         0.000000\n",
       "total_rech_data_6     74.846748\n",
       "total_rech_data_7     74.428744\n",
       "total_rech_data_8     73.660737\n",
       "total_rech_data_9     74.077741\n",
       "max_rech_data_6       74.846748\n",
       "max_rech_data_7       74.428744\n",
       "max_rech_data_8       73.660737\n",
       "max_rech_data_9       74.077741\n",
       "av_rech_amt_data_6    74.846748\n",
       "av_rech_amt_data_7    74.428744\n",
       "av_rech_amt_data_8    73.660737\n",
       "av_rech_amt_data_9    74.077741\n",
       "dtype: float64"
      ]
     },
     "execution_count": 25,
     "metadata": {},
     "output_type": "execute_result"
    }
   ],
   "source": [
    "(data.loc[:, rech_filt_columns].isnull().sum() * 100) / len(data)"
   ]
  },
  {
   "cell_type": "markdown",
   "metadata": {},
   "source": [
    "We see that data related recharges - total_rech_data_* , max_rech_data_* and av_rech_amt_data_* are having more than 73% null values"
   ]
  },
  {
   "cell_type": "code",
   "execution_count": 26,
   "metadata": {},
   "outputs": [
    {
     "data": {
      "text/html": [
       "<div>\n",
       "<style scoped>\n",
       "    .dataframe tbody tr th:only-of-type {\n",
       "        vertical-align: middle;\n",
       "    }\n",
       "\n",
       "    .dataframe tbody tr th {\n",
       "        vertical-align: top;\n",
       "    }\n",
       "\n",
       "    .dataframe thead th {\n",
       "        text-align: right;\n",
       "    }\n",
       "</style>\n",
       "<table border=\"1\" class=\"dataframe\">\n",
       "  <thead>\n",
       "    <tr style=\"text-align: right;\">\n",
       "      <th></th>\n",
       "      <th>total_rech_amt_6</th>\n",
       "      <th>total_rech_amt_7</th>\n",
       "      <th>total_rech_amt_8</th>\n",
       "      <th>total_rech_amt_9</th>\n",
       "      <th>max_rech_amt_6</th>\n",
       "      <th>max_rech_amt_7</th>\n",
       "      <th>max_rech_amt_8</th>\n",
       "      <th>max_rech_amt_9</th>\n",
       "      <th>total_rech_data_6</th>\n",
       "      <th>total_rech_data_7</th>\n",
       "      <th>total_rech_data_8</th>\n",
       "      <th>total_rech_data_9</th>\n",
       "      <th>max_rech_data_6</th>\n",
       "      <th>max_rech_data_7</th>\n",
       "      <th>max_rech_data_8</th>\n",
       "      <th>max_rech_data_9</th>\n",
       "      <th>av_rech_amt_data_6</th>\n",
       "      <th>av_rech_amt_data_7</th>\n",
       "      <th>av_rech_amt_data_8</th>\n",
       "      <th>av_rech_amt_data_9</th>\n",
       "    </tr>\n",
       "  </thead>\n",
       "  <tbody>\n",
       "    <tr>\n",
       "      <th>count</th>\n",
       "      <td>99999.000000</td>\n",
       "      <td>99999.000000</td>\n",
       "      <td>99999.000000</td>\n",
       "      <td>99999.000000</td>\n",
       "      <td>99999.000000</td>\n",
       "      <td>99999.000000</td>\n",
       "      <td>99999.000000</td>\n",
       "      <td>99999.000000</td>\n",
       "      <td>25153.000000</td>\n",
       "      <td>25571.000000</td>\n",
       "      <td>26339.000000</td>\n",
       "      <td>25922.000000</td>\n",
       "      <td>25153.000000</td>\n",
       "      <td>25571.000000</td>\n",
       "      <td>26339.000000</td>\n",
       "      <td>25922.00000</td>\n",
       "      <td>25153.000000</td>\n",
       "      <td>25571.000000</td>\n",
       "      <td>26339.000000</td>\n",
       "      <td>25922.000000</td>\n",
       "    </tr>\n",
       "    <tr>\n",
       "      <th>mean</th>\n",
       "      <td>327.514615</td>\n",
       "      <td>322.962970</td>\n",
       "      <td>324.157122</td>\n",
       "      <td>303.345673</td>\n",
       "      <td>104.637486</td>\n",
       "      <td>104.752398</td>\n",
       "      <td>107.728207</td>\n",
       "      <td>101.943889</td>\n",
       "      <td>2.463802</td>\n",
       "      <td>2.666419</td>\n",
       "      <td>2.651999</td>\n",
       "      <td>2.441170</td>\n",
       "      <td>126.393392</td>\n",
       "      <td>126.729459</td>\n",
       "      <td>125.717301</td>\n",
       "      <td>124.94144</td>\n",
       "      <td>192.600982</td>\n",
       "      <td>200.981292</td>\n",
       "      <td>197.526489</td>\n",
       "      <td>192.734315</td>\n",
       "    </tr>\n",
       "    <tr>\n",
       "      <th>std</th>\n",
       "      <td>398.019701</td>\n",
       "      <td>408.114237</td>\n",
       "      <td>416.540455</td>\n",
       "      <td>404.588583</td>\n",
       "      <td>120.614894</td>\n",
       "      <td>124.523970</td>\n",
       "      <td>126.902505</td>\n",
       "      <td>125.375109</td>\n",
       "      <td>2.789128</td>\n",
       "      <td>3.031593</td>\n",
       "      <td>3.074987</td>\n",
       "      <td>2.516339</td>\n",
       "      <td>108.477235</td>\n",
       "      <td>109.765267</td>\n",
       "      <td>109.437851</td>\n",
       "      <td>111.36376</td>\n",
       "      <td>192.646318</td>\n",
       "      <td>196.791224</td>\n",
       "      <td>191.301305</td>\n",
       "      <td>188.400286</td>\n",
       "    </tr>\n",
       "    <tr>\n",
       "      <th>min</th>\n",
       "      <td>0.000000</td>\n",
       "      <td>0.000000</td>\n",
       "      <td>0.000000</td>\n",
       "      <td>0.000000</td>\n",
       "      <td>0.000000</td>\n",
       "      <td>0.000000</td>\n",
       "      <td>0.000000</td>\n",
       "      <td>0.000000</td>\n",
       "      <td>1.000000</td>\n",
       "      <td>1.000000</td>\n",
       "      <td>1.000000</td>\n",
       "      <td>1.000000</td>\n",
       "      <td>1.000000</td>\n",
       "      <td>1.000000</td>\n",
       "      <td>1.000000</td>\n",
       "      <td>1.00000</td>\n",
       "      <td>1.000000</td>\n",
       "      <td>0.500000</td>\n",
       "      <td>0.500000</td>\n",
       "      <td>1.000000</td>\n",
       "    </tr>\n",
       "    <tr>\n",
       "      <th>25%</th>\n",
       "      <td>109.000000</td>\n",
       "      <td>100.000000</td>\n",
       "      <td>90.000000</td>\n",
       "      <td>52.000000</td>\n",
       "      <td>30.000000</td>\n",
       "      <td>30.000000</td>\n",
       "      <td>30.000000</td>\n",
       "      <td>28.000000</td>\n",
       "      <td>1.000000</td>\n",
       "      <td>1.000000</td>\n",
       "      <td>1.000000</td>\n",
       "      <td>1.000000</td>\n",
       "      <td>25.000000</td>\n",
       "      <td>25.000000</td>\n",
       "      <td>25.000000</td>\n",
       "      <td>25.00000</td>\n",
       "      <td>82.000000</td>\n",
       "      <td>92.000000</td>\n",
       "      <td>87.000000</td>\n",
       "      <td>69.000000</td>\n",
       "    </tr>\n",
       "    <tr>\n",
       "      <th>50%</th>\n",
       "      <td>230.000000</td>\n",
       "      <td>220.000000</td>\n",
       "      <td>225.000000</td>\n",
       "      <td>200.000000</td>\n",
       "      <td>110.000000</td>\n",
       "      <td>110.000000</td>\n",
       "      <td>98.000000</td>\n",
       "      <td>61.000000</td>\n",
       "      <td>1.000000</td>\n",
       "      <td>1.000000</td>\n",
       "      <td>1.000000</td>\n",
       "      <td>2.000000</td>\n",
       "      <td>145.000000</td>\n",
       "      <td>145.000000</td>\n",
       "      <td>145.000000</td>\n",
       "      <td>145.00000</td>\n",
       "      <td>154.000000</td>\n",
       "      <td>154.000000</td>\n",
       "      <td>154.000000</td>\n",
       "      <td>164.000000</td>\n",
       "    </tr>\n",
       "    <tr>\n",
       "      <th>75%</th>\n",
       "      <td>437.500000</td>\n",
       "      <td>428.000000</td>\n",
       "      <td>434.500000</td>\n",
       "      <td>415.000000</td>\n",
       "      <td>120.000000</td>\n",
       "      <td>128.000000</td>\n",
       "      <td>144.000000</td>\n",
       "      <td>144.000000</td>\n",
       "      <td>3.000000</td>\n",
       "      <td>3.000000</td>\n",
       "      <td>3.000000</td>\n",
       "      <td>3.000000</td>\n",
       "      <td>177.000000</td>\n",
       "      <td>177.000000</td>\n",
       "      <td>179.000000</td>\n",
       "      <td>179.00000</td>\n",
       "      <td>252.000000</td>\n",
       "      <td>252.000000</td>\n",
       "      <td>252.000000</td>\n",
       "      <td>252.000000</td>\n",
       "    </tr>\n",
       "    <tr>\n",
       "      <th>max</th>\n",
       "      <td>35190.000000</td>\n",
       "      <td>40335.000000</td>\n",
       "      <td>45320.000000</td>\n",
       "      <td>37235.000000</td>\n",
       "      <td>4010.000000</td>\n",
       "      <td>4010.000000</td>\n",
       "      <td>4449.000000</td>\n",
       "      <td>3399.000000</td>\n",
       "      <td>61.000000</td>\n",
       "      <td>54.000000</td>\n",
       "      <td>60.000000</td>\n",
       "      <td>84.000000</td>\n",
       "      <td>1555.000000</td>\n",
       "      <td>1555.000000</td>\n",
       "      <td>1555.000000</td>\n",
       "      <td>1555.00000</td>\n",
       "      <td>7546.000000</td>\n",
       "      <td>4365.000000</td>\n",
       "      <td>4076.000000</td>\n",
       "      <td>4061.000000</td>\n",
       "    </tr>\n",
       "  </tbody>\n",
       "</table>\n",
       "</div>"
      ],
      "text/plain": [
       "       total_rech_amt_6  total_rech_amt_7  total_rech_amt_8  total_rech_amt_9  \\\n",
       "count      99999.000000      99999.000000      99999.000000      99999.000000   \n",
       "mean         327.514615        322.962970        324.157122        303.345673   \n",
       "std          398.019701        408.114237        416.540455        404.588583   \n",
       "min            0.000000          0.000000          0.000000          0.000000   \n",
       "25%          109.000000        100.000000         90.000000         52.000000   \n",
       "50%          230.000000        220.000000        225.000000        200.000000   \n",
       "75%          437.500000        428.000000        434.500000        415.000000   \n",
       "max        35190.000000      40335.000000      45320.000000      37235.000000   \n",
       "\n",
       "       max_rech_amt_6  max_rech_amt_7  max_rech_amt_8  max_rech_amt_9  \\\n",
       "count    99999.000000    99999.000000    99999.000000    99999.000000   \n",
       "mean       104.637486      104.752398      107.728207      101.943889   \n",
       "std        120.614894      124.523970      126.902505      125.375109   \n",
       "min          0.000000        0.000000        0.000000        0.000000   \n",
       "25%         30.000000       30.000000       30.000000       28.000000   \n",
       "50%        110.000000      110.000000       98.000000       61.000000   \n",
       "75%        120.000000      128.000000      144.000000      144.000000   \n",
       "max       4010.000000     4010.000000     4449.000000     3399.000000   \n",
       "\n",
       "       total_rech_data_6  total_rech_data_7  total_rech_data_8  \\\n",
       "count       25153.000000       25571.000000       26339.000000   \n",
       "mean            2.463802           2.666419           2.651999   \n",
       "std             2.789128           3.031593           3.074987   \n",
       "min             1.000000           1.000000           1.000000   \n",
       "25%             1.000000           1.000000           1.000000   \n",
       "50%             1.000000           1.000000           1.000000   \n",
       "75%             3.000000           3.000000           3.000000   \n",
       "max            61.000000          54.000000          60.000000   \n",
       "\n",
       "       total_rech_data_9  max_rech_data_6  max_rech_data_7  max_rech_data_8  \\\n",
       "count       25922.000000     25153.000000     25571.000000     26339.000000   \n",
       "mean            2.441170       126.393392       126.729459       125.717301   \n",
       "std             2.516339       108.477235       109.765267       109.437851   \n",
       "min             1.000000         1.000000         1.000000         1.000000   \n",
       "25%             1.000000        25.000000        25.000000        25.000000   \n",
       "50%             2.000000       145.000000       145.000000       145.000000   \n",
       "75%             3.000000       177.000000       177.000000       179.000000   \n",
       "max            84.000000      1555.000000      1555.000000      1555.000000   \n",
       "\n",
       "       max_rech_data_9  av_rech_amt_data_6  av_rech_amt_data_7  \\\n",
       "count      25922.00000        25153.000000        25571.000000   \n",
       "mean         124.94144          192.600982          200.981292   \n",
       "std          111.36376          192.646318          196.791224   \n",
       "min            1.00000            1.000000            0.500000   \n",
       "25%           25.00000           82.000000           92.000000   \n",
       "50%          145.00000          154.000000          154.000000   \n",
       "75%          179.00000          252.000000          252.000000   \n",
       "max         1555.00000         7546.000000         4365.000000   \n",
       "\n",
       "       av_rech_amt_data_8  av_rech_amt_data_9  \n",
       "count        26339.000000        25922.000000  \n",
       "mean           197.526489          192.734315  \n",
       "std            191.301305          188.400286  \n",
       "min              0.500000            1.000000  \n",
       "25%             87.000000           69.000000  \n",
       "50%            154.000000          164.000000  \n",
       "75%            252.000000          252.000000  \n",
       "max           4076.000000         4061.000000  "
      ]
     },
     "execution_count": 26,
     "metadata": {},
     "output_type": "execute_result"
    }
   ],
   "source": [
    "data[rech_filt_columns].describe()"
   ]
  },
  {
   "cell_type": "markdown",
   "metadata": {},
   "source": [
    "\n",
    "We will create new feature as total_rech_amt_data using total_rech_data and av_rech_amt_data to capture amount utilized by customer for data.\n",
    "\n",
    "Since the minimum value is 1 we will impute the NA values by 0, Considering there were no recharges done by the custome"
   ]
  },
  {
   "cell_type": "code",
   "execution_count": 27,
   "metadata": {},
   "outputs": [],
   "source": [
    "data['total_rech_data_6'].fillna(value=0.0, inplace=True)\n",
    "data['total_rech_data_7'].fillna(value=0.0, inplace=True)\n",
    "data['total_rech_data_8'].fillna(value=0.0, inplace=True)\n",
    "data['total_rech_data_9'].fillna(value=0.0, inplace=True)\n",
    "\n",
    "data['av_rech_amt_data_6'].fillna(value=0.0, inplace=True)\n",
    "data['av_rech_amt_data_7'].fillna(value=0.0, inplace=True)\n",
    "data['av_rech_amt_data_8'].fillna(value=0.0, inplace=True)\n",
    "data['av_rech_amt_data_9'].fillna(value=0.0, inplace=True)"
   ]
  },
  {
   "cell_type": "code",
   "execution_count": 28,
   "metadata": {},
   "outputs": [],
   "source": [
    "data['total_rech_amt_data_6'] = data['total_rech_data_6'] * data['av_rech_amt_data_6']\n",
    "data['total_rech_amt_data_7'] = data['total_rech_data_7'] * data['av_rech_amt_data_7']\n",
    "data['total_rech_amt_data_8'] = data['total_rech_data_8'] * data['av_rech_amt_data_8']\n",
    "data['total_rech_amt_data_9'] = data['total_rech_data_9'] * data['av_rech_amt_data_9']"
   ]
  },
  {
   "cell_type": "markdown",
   "metadata": {},
   "source": [
    "High Value Customers: Those who have recharged with an amount more than or equal to X, \n",
    "    where X is the 70th percentile of the average recharge amount in the first two months (the good phase)."
   ]
  },
  {
   "cell_type": "code",
   "execution_count": 29,
   "metadata": {},
   "outputs": [],
   "source": [
    "data['avg_rech_amt_goodPhase'] = (data['total_rech_amt_6'] + data['total_rech_amt_data_6'] + data['total_rech_amt_7'] + data['total_rech_amt_data_7']) / 2"
   ]
  },
  {
   "cell_type": "code",
   "execution_count": 30,
   "metadata": {},
   "outputs": [
    {
     "data": {
      "text/plain": [
       "478.0"
      ]
     },
     "execution_count": 30,
     "metadata": {},
     "output_type": "execute_result"
    }
   ],
   "source": [
    "high_val_filter = data['avg_rech_amt_goodPhase'].quantile(0.7)\n",
    "high_val_filter"
   ]
  },
  {
   "cell_type": "code",
   "execution_count": 31,
   "metadata": {},
   "outputs": [
    {
     "data": {
      "text/plain": [
       "(29953, 218)"
      ]
     },
     "execution_count": 31,
     "metadata": {},
     "output_type": "execute_result"
    }
   ],
   "source": [
    "# High Value Customers\n",
    "\n",
    "data_high_val_cust = data[data['avg_rech_amt_goodPhase'] > high_val_filter]\n",
    "data_high_val_cust.shape"
   ]
  },
  {
   "cell_type": "markdown",
   "metadata": {},
   "source": [
    "### Tag churners and remove attributes of the churn phase\n",
    "Now tag the churned customers (churn=1, else 0) based on the fourth month as follows: Those who have not made any calls AND have not used mobile internet even once in the churn phase. The attributes you need to use to tag churners are:total_ic_mou_9, total_og_mou_9, vol_2g_mb_9, vol_3g_mb_9"
   ]
  },
  {
   "cell_type": "code",
   "execution_count": 32,
   "metadata": {},
   "outputs": [
    {
     "data": {
      "text/html": [
       "<div>\n",
       "<style scoped>\n",
       "    .dataframe tbody tr th:only-of-type {\n",
       "        vertical-align: middle;\n",
       "    }\n",
       "\n",
       "    .dataframe tbody tr th {\n",
       "        vertical-align: top;\n",
       "    }\n",
       "\n",
       "    .dataframe thead th {\n",
       "        text-align: right;\n",
       "    }\n",
       "</style>\n",
       "<table border=\"1\" class=\"dataframe\">\n",
       "  <thead>\n",
       "    <tr style=\"text-align: right;\">\n",
       "      <th></th>\n",
       "      <th>total_ic_mou_9</th>\n",
       "      <th>total_og_mou_9</th>\n",
       "      <th>vol_2g_mb_9</th>\n",
       "      <th>vol_3g_mb_9</th>\n",
       "    </tr>\n",
       "  </thead>\n",
       "  <tbody>\n",
       "    <tr>\n",
       "      <th>0</th>\n",
       "      <td>0.00</td>\n",
       "      <td>0.00</td>\n",
       "      <td>0.00</td>\n",
       "      <td>0.00</td>\n",
       "    </tr>\n",
       "    <tr>\n",
       "      <th>7</th>\n",
       "      <td>0.00</td>\n",
       "      <td>0.00</td>\n",
       "      <td>0.00</td>\n",
       "      <td>0.00</td>\n",
       "    </tr>\n",
       "    <tr>\n",
       "      <th>8</th>\n",
       "      <td>34.91</td>\n",
       "      <td>142.18</td>\n",
       "      <td>0.00</td>\n",
       "      <td>0.00</td>\n",
       "    </tr>\n",
       "    <tr>\n",
       "      <th>21</th>\n",
       "      <td>252.61</td>\n",
       "      <td>1031.53</td>\n",
       "      <td>0.00</td>\n",
       "      <td>0.00</td>\n",
       "    </tr>\n",
       "    <tr>\n",
       "      <th>23</th>\n",
       "      <td>127.48</td>\n",
       "      <td>127.63</td>\n",
       "      <td>13.93</td>\n",
       "      <td>314.74</td>\n",
       "    </tr>\n",
       "    <tr>\n",
       "      <th>...</th>\n",
       "      <td>...</td>\n",
       "      <td>...</td>\n",
       "      <td>...</td>\n",
       "      <td>...</td>\n",
       "    </tr>\n",
       "    <tr>\n",
       "      <th>99981</th>\n",
       "      <td>391.63</td>\n",
       "      <td>64.21</td>\n",
       "      <td>0.00</td>\n",
       "      <td>0.00</td>\n",
       "    </tr>\n",
       "    <tr>\n",
       "      <th>99984</th>\n",
       "      <td>149.26</td>\n",
       "      <td>14.44</td>\n",
       "      <td>723.41</td>\n",
       "      <td>232.56</td>\n",
       "    </tr>\n",
       "    <tr>\n",
       "      <th>99986</th>\n",
       "      <td>547.11</td>\n",
       "      <td>1095.24</td>\n",
       "      <td>9.14</td>\n",
       "      <td>941.48</td>\n",
       "    </tr>\n",
       "    <tr>\n",
       "      <th>99988</th>\n",
       "      <td>265.84</td>\n",
       "      <td>182.16</td>\n",
       "      <td>0.05</td>\n",
       "      <td>393.34</td>\n",
       "    </tr>\n",
       "    <tr>\n",
       "      <th>99997</th>\n",
       "      <td>2.21</td>\n",
       "      <td>0.00</td>\n",
       "      <td>85.67</td>\n",
       "      <td>4177.14</td>\n",
       "    </tr>\n",
       "  </tbody>\n",
       "</table>\n",
       "<p>29953 rows × 4 columns</p>\n",
       "</div>"
      ],
      "text/plain": [
       "       total_ic_mou_9  total_og_mou_9  vol_2g_mb_9  vol_3g_mb_9\n",
       "0                0.00            0.00         0.00         0.00\n",
       "7                0.00            0.00         0.00         0.00\n",
       "8               34.91          142.18         0.00         0.00\n",
       "21             252.61         1031.53         0.00         0.00\n",
       "23             127.48          127.63        13.93       314.74\n",
       "...               ...             ...          ...          ...\n",
       "99981          391.63           64.21         0.00         0.00\n",
       "99984          149.26           14.44       723.41       232.56\n",
       "99986          547.11         1095.24         9.14       941.48\n",
       "99988          265.84          182.16         0.05       393.34\n",
       "99997            2.21            0.00        85.67      4177.14\n",
       "\n",
       "[29953 rows x 4 columns]"
      ]
     },
     "execution_count": 32,
     "metadata": {},
     "output_type": "execute_result"
    }
   ],
   "source": [
    "data_high_val_cust[['total_ic_mou_9', 'total_og_mou_9', 'vol_2g_mb_9', 'vol_3g_mb_9']]"
   ]
  },
  {
   "cell_type": "code",
   "execution_count": 33,
   "metadata": {},
   "outputs": [
    {
     "data": {
      "text/plain": [
       "total_ic_mou_9    0\n",
       "total_og_mou_9    0\n",
       "vol_2g_mb_9       0\n",
       "vol_3g_mb_9       0\n",
       "dtype: int64"
      ]
     },
     "execution_count": 33,
     "metadata": {},
     "output_type": "execute_result"
    }
   ],
   "source": [
    "# checking for missing values\n",
    "\n",
    "data_high_val_cust[['total_ic_mou_9', 'total_og_mou_9', 'vol_2g_mb_9', 'vol_3g_mb_9']].isnull().sum()"
   ]
  },
  {
   "cell_type": "code",
   "execution_count": 34,
   "metadata": {},
   "outputs": [],
   "source": [
    "churned_list = (data_high_val_cust['total_ic_mou_9'] == 0) & (data_high_val_cust['total_og_mou_9'] ==0) & (data_high_val_cust['vol_2g_mb_9'] == 0) & (data_high_val_cust['vol_3g_mb_9'] == 0)"
   ]
  },
  {
   "cell_type": "code",
   "execution_count": 35,
   "metadata": {},
   "outputs": [
    {
     "data": {
      "text/plain": [
       "0         True\n",
       "7         True\n",
       "8        False\n",
       "21       False\n",
       "23       False\n",
       "         ...  \n",
       "99981    False\n",
       "99984    False\n",
       "99986    False\n",
       "99988    False\n",
       "99997    False\n",
       "Length: 29953, dtype: bool"
      ]
     },
     "execution_count": 35,
     "metadata": {},
     "output_type": "execute_result"
    }
   ],
   "source": [
    "churned_list"
   ]
  },
  {
   "cell_type": "code",
   "execution_count": 36,
   "metadata": {},
   "outputs": [],
   "source": [
    "data_high_val_cust['churn'] = np.where(churned_list, 1, 0)"
   ]
  },
  {
   "cell_type": "code",
   "execution_count": 37,
   "metadata": {},
   "outputs": [
    {
     "data": {
      "text/html": [
       "<div>\n",
       "<style scoped>\n",
       "    .dataframe tbody tr th:only-of-type {\n",
       "        vertical-align: middle;\n",
       "    }\n",
       "\n",
       "    .dataframe tbody tr th {\n",
       "        vertical-align: top;\n",
       "    }\n",
       "\n",
       "    .dataframe thead th {\n",
       "        text-align: right;\n",
       "    }\n",
       "</style>\n",
       "<table border=\"1\" class=\"dataframe\">\n",
       "  <thead>\n",
       "    <tr style=\"text-align: right;\">\n",
       "      <th></th>\n",
       "      <th>total_ic_mou_9</th>\n",
       "      <th>total_og_mou_9</th>\n",
       "      <th>vol_2g_mb_9</th>\n",
       "      <th>vol_3g_mb_9</th>\n",
       "      <th>churn</th>\n",
       "    </tr>\n",
       "  </thead>\n",
       "  <tbody>\n",
       "    <tr>\n",
       "      <th>0</th>\n",
       "      <td>0.00</td>\n",
       "      <td>0.00</td>\n",
       "      <td>0.00</td>\n",
       "      <td>0.00</td>\n",
       "      <td>1</td>\n",
       "    </tr>\n",
       "    <tr>\n",
       "      <th>7</th>\n",
       "      <td>0.00</td>\n",
       "      <td>0.00</td>\n",
       "      <td>0.00</td>\n",
       "      <td>0.00</td>\n",
       "      <td>1</td>\n",
       "    </tr>\n",
       "    <tr>\n",
       "      <th>8</th>\n",
       "      <td>34.91</td>\n",
       "      <td>142.18</td>\n",
       "      <td>0.00</td>\n",
       "      <td>0.00</td>\n",
       "      <td>0</td>\n",
       "    </tr>\n",
       "    <tr>\n",
       "      <th>21</th>\n",
       "      <td>252.61</td>\n",
       "      <td>1031.53</td>\n",
       "      <td>0.00</td>\n",
       "      <td>0.00</td>\n",
       "      <td>0</td>\n",
       "    </tr>\n",
       "    <tr>\n",
       "      <th>23</th>\n",
       "      <td>127.48</td>\n",
       "      <td>127.63</td>\n",
       "      <td>13.93</td>\n",
       "      <td>314.74</td>\n",
       "      <td>0</td>\n",
       "    </tr>\n",
       "    <tr>\n",
       "      <th>...</th>\n",
       "      <td>...</td>\n",
       "      <td>...</td>\n",
       "      <td>...</td>\n",
       "      <td>...</td>\n",
       "      <td>...</td>\n",
       "    </tr>\n",
       "    <tr>\n",
       "      <th>99981</th>\n",
       "      <td>391.63</td>\n",
       "      <td>64.21</td>\n",
       "      <td>0.00</td>\n",
       "      <td>0.00</td>\n",
       "      <td>0</td>\n",
       "    </tr>\n",
       "    <tr>\n",
       "      <th>99984</th>\n",
       "      <td>149.26</td>\n",
       "      <td>14.44</td>\n",
       "      <td>723.41</td>\n",
       "      <td>232.56</td>\n",
       "      <td>0</td>\n",
       "    </tr>\n",
       "    <tr>\n",
       "      <th>99986</th>\n",
       "      <td>547.11</td>\n",
       "      <td>1095.24</td>\n",
       "      <td>9.14</td>\n",
       "      <td>941.48</td>\n",
       "      <td>0</td>\n",
       "    </tr>\n",
       "    <tr>\n",
       "      <th>99988</th>\n",
       "      <td>265.84</td>\n",
       "      <td>182.16</td>\n",
       "      <td>0.05</td>\n",
       "      <td>393.34</td>\n",
       "      <td>0</td>\n",
       "    </tr>\n",
       "    <tr>\n",
       "      <th>99997</th>\n",
       "      <td>2.21</td>\n",
       "      <td>0.00</td>\n",
       "      <td>85.67</td>\n",
       "      <td>4177.14</td>\n",
       "      <td>0</td>\n",
       "    </tr>\n",
       "  </tbody>\n",
       "</table>\n",
       "<p>29953 rows × 5 columns</p>\n",
       "</div>"
      ],
      "text/plain": [
       "       total_ic_mou_9  total_og_mou_9  vol_2g_mb_9  vol_3g_mb_9  churn\n",
       "0                0.00            0.00         0.00         0.00      1\n",
       "7                0.00            0.00         0.00         0.00      1\n",
       "8               34.91          142.18         0.00         0.00      0\n",
       "21             252.61         1031.53         0.00         0.00      0\n",
       "23             127.48          127.63        13.93       314.74      0\n",
       "...               ...             ...          ...          ...    ...\n",
       "99981          391.63           64.21         0.00         0.00      0\n",
       "99984          149.26           14.44       723.41       232.56      0\n",
       "99986          547.11         1095.24         9.14       941.48      0\n",
       "99988          265.84          182.16         0.05       393.34      0\n",
       "99997            2.21            0.00        85.67      4177.14      0\n",
       "\n",
       "[29953 rows x 5 columns]"
      ]
     },
     "execution_count": 37,
     "metadata": {},
     "output_type": "execute_result"
    }
   ],
   "source": [
    "#validating if churn is done correctly\n",
    "\n",
    "data_high_val_cust[['total_ic_mou_9', 'total_og_mou_9', 'vol_2g_mb_9', 'vol_3g_mb_9', 'churn']]"
   ]
  },
  {
   "cell_type": "code",
   "execution_count": 38,
   "metadata": {},
   "outputs": [
    {
     "data": {
      "text/plain": [
       "Index(['last_date_of_month_9', 'arpu_9', 'onnet_mou_9', 'offnet_mou_9',\n",
       "       'roam_ic_mou_9', 'roam_og_mou_9', 'loc_og_t2t_mou_9',\n",
       "       'loc_og_t2m_mou_9', 'loc_og_t2f_mou_9', 'loc_og_t2c_mou_9',\n",
       "       'loc_og_mou_9', 'std_og_t2t_mou_9', 'std_og_t2m_mou_9',\n",
       "       'std_og_t2f_mou_9', 'std_og_mou_9', 'isd_og_mou_9', 'spl_og_mou_9',\n",
       "       'og_others_9', 'total_og_mou_9', 'loc_ic_t2t_mou_9', 'loc_ic_t2m_mou_9',\n",
       "       'loc_ic_t2f_mou_9', 'loc_ic_mou_9', 'std_ic_t2t_mou_9',\n",
       "       'std_ic_t2m_mou_9', 'std_ic_t2f_mou_9', 'std_ic_mou_9',\n",
       "       'total_ic_mou_9', 'spl_ic_mou_9', 'isd_ic_mou_9', 'ic_others_9',\n",
       "       'total_rech_num_9', 'total_rech_amt_9', 'max_rech_amt_9',\n",
       "       'date_of_last_rech_9', 'last_day_rch_amt_9', 'date_of_last_rech_data_9',\n",
       "       'total_rech_data_9', 'max_rech_data_9', 'count_rech_2g_9',\n",
       "       'count_rech_3g_9', 'av_rech_amt_data_9', 'vol_2g_mb_9', 'vol_3g_mb_9',\n",
       "       'arpu_3g_9', 'arpu_2g_9', 'night_pck_user_9', 'monthly_2g_9',\n",
       "       'sachet_2g_9', 'monthly_3g_9', 'sachet_3g_9', 'fb_user_9',\n",
       "       'total_rech_amt_data_9'],\n",
       "      dtype='object')"
      ]
     },
     "execution_count": 38,
     "metadata": {},
     "output_type": "execute_result"
    }
   ],
   "source": [
    "# Remove all the features corresponding to churn phase\n",
    "\n",
    "churn_col = data_high_val_cust.columns[data_high_val_cust.columns.str.contains('_9')]\n",
    "churn_col"
   ]
  },
  {
   "cell_type": "code",
   "execution_count": 39,
   "metadata": {},
   "outputs": [
    {
     "data": {
      "text/plain": [
       "Index(['last_date_of_month_6', 'last_date_of_month_7', 'last_date_of_month_8',\n",
       "       'arpu_6', 'arpu_7', 'arpu_8', 'onnet_mou_6', 'onnet_mou_7',\n",
       "       'onnet_mou_8', 'offnet_mou_6',\n",
       "       ...\n",
       "       'aon', 'aug_vbc_3g', 'jul_vbc_3g', 'jun_vbc_3g', 'sep_vbc_3g',\n",
       "       'total_rech_amt_data_6', 'total_rech_amt_data_7',\n",
       "       'total_rech_amt_data_8', 'avg_rech_amt_goodPhase', 'churn'],\n",
       "      dtype='object', length=166)"
      ]
     },
     "execution_count": 39,
     "metadata": {},
     "output_type": "execute_result"
    }
   ],
   "source": [
    "data_high_val_cust.drop(churn_col, axis=1, inplace=True)\n",
    "data_high_val_cust.columns"
   ]
  },
  {
   "cell_type": "code",
   "execution_count": 40,
   "metadata": {},
   "outputs": [
    {
     "data": {
      "text/plain": [
       "8.122725603445398"
      ]
     },
     "execution_count": 40,
     "metadata": {},
     "output_type": "execute_result"
    }
   ],
   "source": [
    "# churned percentage\n",
    "\n",
    "(data_high_val_cust['churn'].sum() * 100) / len(data_high_val_cust)"
   ]
  },
  {
   "cell_type": "code",
   "execution_count": 41,
   "metadata": {},
   "outputs": [
    {
     "data": {
      "text/plain": [
       "(29953, 166)"
      ]
     },
     "execution_count": 41,
     "metadata": {},
     "output_type": "execute_result"
    }
   ],
   "source": [
    "data_high_val_cust.shape"
   ]
  },
  {
   "cell_type": "markdown",
   "metadata": {},
   "source": [
    "### Continuing with EDA for the new dataset"
   ]
  },
  {
   "cell_type": "code",
   "execution_count": 42,
   "metadata": {},
   "outputs": [
    {
     "name": "stdout",
     "output_type": "stream",
     "text": [
      "<class 'pandas.core.frame.DataFrame'>\n",
      "Int64Index: 29953 entries, 0 to 99997\n",
      "Columns: 166 entries, last_date_of_month_6 to churn\n",
      "dtypes: float64(131), int32(1), int64(25), object(9)\n",
      "memory usage: 38.0+ MB\n"
     ]
    }
   ],
   "source": [
    "data_high_val_cust.info()"
   ]
  },
  {
   "cell_type": "code",
   "execution_count": 43,
   "metadata": {},
   "outputs": [
    {
     "data": {
      "text/html": [
       "<div>\n",
       "<style scoped>\n",
       "    .dataframe tbody tr th:only-of-type {\n",
       "        vertical-align: middle;\n",
       "    }\n",
       "\n",
       "    .dataframe tbody tr th {\n",
       "        vertical-align: top;\n",
       "    }\n",
       "\n",
       "    .dataframe thead th {\n",
       "        text-align: right;\n",
       "    }\n",
       "</style>\n",
       "<table border=\"1\" class=\"dataframe\">\n",
       "  <thead>\n",
       "    <tr style=\"text-align: right;\">\n",
       "      <th></th>\n",
       "      <th>arpu_6</th>\n",
       "      <th>arpu_7</th>\n",
       "      <th>arpu_8</th>\n",
       "      <th>onnet_mou_6</th>\n",
       "      <th>onnet_mou_7</th>\n",
       "      <th>onnet_mou_8</th>\n",
       "      <th>offnet_mou_6</th>\n",
       "      <th>offnet_mou_7</th>\n",
       "      <th>offnet_mou_8</th>\n",
       "      <th>roam_ic_mou_6</th>\n",
       "      <th>...</th>\n",
       "      <th>aon</th>\n",
       "      <th>aug_vbc_3g</th>\n",
       "      <th>jul_vbc_3g</th>\n",
       "      <th>jun_vbc_3g</th>\n",
       "      <th>sep_vbc_3g</th>\n",
       "      <th>total_rech_amt_data_6</th>\n",
       "      <th>total_rech_amt_data_7</th>\n",
       "      <th>total_rech_amt_data_8</th>\n",
       "      <th>avg_rech_amt_goodPhase</th>\n",
       "      <th>churn</th>\n",
       "    </tr>\n",
       "  </thead>\n",
       "  <tbody>\n",
       "    <tr>\n",
       "      <th>count</th>\n",
       "      <td>29953.000000</td>\n",
       "      <td>29953.000000</td>\n",
       "      <td>29953.000000</td>\n",
       "      <td>29411.000000</td>\n",
       "      <td>29417.000000</td>\n",
       "      <td>28781.000000</td>\n",
       "      <td>29411.000000</td>\n",
       "      <td>29417.000000</td>\n",
       "      <td>28781.000000</td>\n",
       "      <td>29411.000000</td>\n",
       "      <td>...</td>\n",
       "      <td>29953.000000</td>\n",
       "      <td>29953.000000</td>\n",
       "      <td>29953.000000</td>\n",
       "      <td>29953.000000</td>\n",
       "      <td>29953.000000</td>\n",
       "      <td>29953.000000</td>\n",
       "      <td>29953.000000</td>\n",
       "      <td>29953.000000</td>\n",
       "      <td>29953.000000</td>\n",
       "      <td>29953.000000</td>\n",
       "    </tr>\n",
       "    <tr>\n",
       "      <th>mean</th>\n",
       "      <td>558.820058</td>\n",
       "      <td>561.160547</td>\n",
       "      <td>508.890301</td>\n",
       "      <td>265.708886</td>\n",
       "      <td>272.935850</td>\n",
       "      <td>243.888097</td>\n",
       "      <td>380.688975</td>\n",
       "      <td>385.124799</td>\n",
       "      <td>348.769656</td>\n",
       "      <td>16.421142</td>\n",
       "      <td>...</td>\n",
       "      <td>1209.280573</td>\n",
       "      <td>169.276670</td>\n",
       "      <td>179.057629</td>\n",
       "      <td>158.731865</td>\n",
       "      <td>8.037804</td>\n",
       "      <td>456.387566</td>\n",
       "      <td>528.958341</td>\n",
       "      <td>463.640890</td>\n",
       "      <td>1153.701715</td>\n",
       "      <td>0.081227</td>\n",
       "    </tr>\n",
       "    <tr>\n",
       "      <th>std</th>\n",
       "      <td>460.868223</td>\n",
       "      <td>480.028497</td>\n",
       "      <td>502.136278</td>\n",
       "      <td>462.692744</td>\n",
       "      <td>483.282132</td>\n",
       "      <td>465.505577</td>\n",
       "      <td>484.441095</td>\n",
       "      <td>501.024091</td>\n",
       "      <td>486.836956</td>\n",
       "      <td>77.012820</td>\n",
       "      <td>...</td>\n",
       "      <td>957.449442</td>\n",
       "      <td>421.128001</td>\n",
       "      <td>443.756247</td>\n",
       "      <td>416.989501</td>\n",
       "      <td>52.413217</td>\n",
       "      <td>1419.713940</td>\n",
       "      <td>1477.097887</td>\n",
       "      <td>1623.839242</td>\n",
       "      <td>1359.533621</td>\n",
       "      <td>0.273188</td>\n",
       "    </tr>\n",
       "    <tr>\n",
       "      <th>min</th>\n",
       "      <td>-2258.709000</td>\n",
       "      <td>-2014.045000</td>\n",
       "      <td>-945.808000</td>\n",
       "      <td>0.000000</td>\n",
       "      <td>0.000000</td>\n",
       "      <td>0.000000</td>\n",
       "      <td>0.000000</td>\n",
       "      <td>0.000000</td>\n",
       "      <td>0.000000</td>\n",
       "      <td>0.000000</td>\n",
       "      <td>...</td>\n",
       "      <td>180.000000</td>\n",
       "      <td>0.000000</td>\n",
       "      <td>0.000000</td>\n",
       "      <td>0.000000</td>\n",
       "      <td>0.000000</td>\n",
       "      <td>0.000000</td>\n",
       "      <td>0.000000</td>\n",
       "      <td>0.000000</td>\n",
       "      <td>478.500000</td>\n",
       "      <td>0.000000</td>\n",
       "    </tr>\n",
       "    <tr>\n",
       "      <th>25%</th>\n",
       "      <td>310.142000</td>\n",
       "      <td>310.071000</td>\n",
       "      <td>231.615000</td>\n",
       "      <td>19.250000</td>\n",
       "      <td>18.180000</td>\n",
       "      <td>14.280000</td>\n",
       "      <td>78.550000</td>\n",
       "      <td>76.180000</td>\n",
       "      <td>58.760000</td>\n",
       "      <td>0.000000</td>\n",
       "      <td>...</td>\n",
       "      <td>460.000000</td>\n",
       "      <td>0.000000</td>\n",
       "      <td>0.000000</td>\n",
       "      <td>0.000000</td>\n",
       "      <td>0.000000</td>\n",
       "      <td>0.000000</td>\n",
       "      <td>0.000000</td>\n",
       "      <td>0.000000</td>\n",
       "      <td>604.000000</td>\n",
       "      <td>0.000000</td>\n",
       "    </tr>\n",
       "    <tr>\n",
       "      <th>50%</th>\n",
       "      <td>482.354000</td>\n",
       "      <td>481.496000</td>\n",
       "      <td>427.604000</td>\n",
       "      <td>88.140000</td>\n",
       "      <td>86.890000</td>\n",
       "      <td>72.990000</td>\n",
       "      <td>229.630000</td>\n",
       "      <td>227.130000</td>\n",
       "      <td>197.690000</td>\n",
       "      <td>0.000000</td>\n",
       "      <td>...</td>\n",
       "      <td>846.000000</td>\n",
       "      <td>0.000000</td>\n",
       "      <td>0.000000</td>\n",
       "      <td>0.000000</td>\n",
       "      <td>0.000000</td>\n",
       "      <td>92.000000</td>\n",
       "      <td>100.000000</td>\n",
       "      <td>25.000000</td>\n",
       "      <td>800.500000</td>\n",
       "      <td>0.000000</td>\n",
       "    </tr>\n",
       "    <tr>\n",
       "      <th>75%</th>\n",
       "      <td>700.240000</td>\n",
       "      <td>698.829000</td>\n",
       "      <td>661.753000</td>\n",
       "      <td>297.490000</td>\n",
       "      <td>298.380000</td>\n",
       "      <td>255.310000</td>\n",
       "      <td>494.755000</td>\n",
       "      <td>500.480000</td>\n",
       "      <td>455.440000</td>\n",
       "      <td>0.000000</td>\n",
       "      <td>...</td>\n",
       "      <td>1756.000000</td>\n",
       "      <td>129.130000</td>\n",
       "      <td>137.860000</td>\n",
       "      <td>98.750000</td>\n",
       "      <td>0.000000</td>\n",
       "      <td>400.000000</td>\n",
       "      <td>575.000000</td>\n",
       "      <td>308.000000</td>\n",
       "      <td>1209.000000</td>\n",
       "      <td>0.000000</td>\n",
       "    </tr>\n",
       "    <tr>\n",
       "      <th>max</th>\n",
       "      <td>27731.088000</td>\n",
       "      <td>35145.834000</td>\n",
       "      <td>33543.624000</td>\n",
       "      <td>7376.710000</td>\n",
       "      <td>8157.780000</td>\n",
       "      <td>10752.560000</td>\n",
       "      <td>8362.360000</td>\n",
       "      <td>9667.130000</td>\n",
       "      <td>14007.340000</td>\n",
       "      <td>2613.310000</td>\n",
       "      <td>...</td>\n",
       "      <td>4321.000000</td>\n",
       "      <td>12916.220000</td>\n",
       "      <td>9165.600000</td>\n",
       "      <td>11166.210000</td>\n",
       "      <td>2618.570000</td>\n",
       "      <td>105644.000000</td>\n",
       "      <td>55080.000000</td>\n",
       "      <td>89106.500000</td>\n",
       "      <td>61236.000000</td>\n",
       "      <td>1.000000</td>\n",
       "    </tr>\n",
       "  </tbody>\n",
       "</table>\n",
       "<p>8 rows × 157 columns</p>\n",
       "</div>"
      ],
      "text/plain": [
       "             arpu_6        arpu_7        arpu_8   onnet_mou_6   onnet_mou_7  \\\n",
       "count  29953.000000  29953.000000  29953.000000  29411.000000  29417.000000   \n",
       "mean     558.820058    561.160547    508.890301    265.708886    272.935850   \n",
       "std      460.868223    480.028497    502.136278    462.692744    483.282132   \n",
       "min    -2258.709000  -2014.045000   -945.808000      0.000000      0.000000   \n",
       "25%      310.142000    310.071000    231.615000     19.250000     18.180000   \n",
       "50%      482.354000    481.496000    427.604000     88.140000     86.890000   \n",
       "75%      700.240000    698.829000    661.753000    297.490000    298.380000   \n",
       "max    27731.088000  35145.834000  33543.624000   7376.710000   8157.780000   \n",
       "\n",
       "        onnet_mou_8  offnet_mou_6  offnet_mou_7  offnet_mou_8  roam_ic_mou_6  \\\n",
       "count  28781.000000  29411.000000  29417.000000  28781.000000   29411.000000   \n",
       "mean     243.888097    380.688975    385.124799    348.769656      16.421142   \n",
       "std      465.505577    484.441095    501.024091    486.836956      77.012820   \n",
       "min        0.000000      0.000000      0.000000      0.000000       0.000000   \n",
       "25%       14.280000     78.550000     76.180000     58.760000       0.000000   \n",
       "50%       72.990000    229.630000    227.130000    197.690000       0.000000   \n",
       "75%      255.310000    494.755000    500.480000    455.440000       0.000000   \n",
       "max    10752.560000   8362.360000   9667.130000  14007.340000    2613.310000   \n",
       "\n",
       "       ...           aon    aug_vbc_3g    jul_vbc_3g    jun_vbc_3g  \\\n",
       "count  ...  29953.000000  29953.000000  29953.000000  29953.000000   \n",
       "mean   ...   1209.280573    169.276670    179.057629    158.731865   \n",
       "std    ...    957.449442    421.128001    443.756247    416.989501   \n",
       "min    ...    180.000000      0.000000      0.000000      0.000000   \n",
       "25%    ...    460.000000      0.000000      0.000000      0.000000   \n",
       "50%    ...    846.000000      0.000000      0.000000      0.000000   \n",
       "75%    ...   1756.000000    129.130000    137.860000     98.750000   \n",
       "max    ...   4321.000000  12916.220000   9165.600000  11166.210000   \n",
       "\n",
       "         sep_vbc_3g  total_rech_amt_data_6  total_rech_amt_data_7  \\\n",
       "count  29953.000000           29953.000000           29953.000000   \n",
       "mean       8.037804             456.387566             528.958341   \n",
       "std       52.413217            1419.713940            1477.097887   \n",
       "min        0.000000               0.000000               0.000000   \n",
       "25%        0.000000               0.000000               0.000000   \n",
       "50%        0.000000              92.000000             100.000000   \n",
       "75%        0.000000             400.000000             575.000000   \n",
       "max     2618.570000          105644.000000           55080.000000   \n",
       "\n",
       "       total_rech_amt_data_8  avg_rech_amt_goodPhase         churn  \n",
       "count           29953.000000            29953.000000  29953.000000  \n",
       "mean              463.640890             1153.701715      0.081227  \n",
       "std              1623.839242             1359.533621      0.273188  \n",
       "min                 0.000000              478.500000      0.000000  \n",
       "25%                 0.000000              604.000000      0.000000  \n",
       "50%                25.000000              800.500000      0.000000  \n",
       "75%               308.000000             1209.000000      0.000000  \n",
       "max             89106.500000            61236.000000      1.000000  \n",
       "\n",
       "[8 rows x 157 columns]"
      ]
     },
     "execution_count": 43,
     "metadata": {},
     "output_type": "execute_result"
    }
   ],
   "source": [
    "data_high_val_cust.describe()"
   ]
  },
  {
   "cell_type": "code",
   "execution_count": 45,
   "metadata": {},
   "outputs": [],
   "source": [
    "# we will drop last_date_of_month_* column it does not add any value\n",
    "\n",
    "data_high_val_cust.drop(['last_date_of_month_6','last_date_of_month_7', 'last_date_of_month_8'], axis=1, inplace=True)"
   ]
  },
  {
   "cell_type": "code",
   "execution_count": 46,
   "metadata": {},
   "outputs": [
    {
     "data": {
      "text/plain": [
       "(29953, 163)"
      ]
     },
     "execution_count": 46,
     "metadata": {},
     "output_type": "execute_result"
    }
   ],
   "source": [
    "data_high_val_cust.shape"
   ]
  },
  {
   "cell_type": "code",
   "execution_count": 47,
   "metadata": {},
   "outputs": [],
   "source": [
    "# Create boxplot\n",
    "def plot_box_chart(attr):\n",
    "    plt.figure(figsize=(20,10))\n",
    "    plt.subplot(2,3,1)\n",
    "    sns.boxplot(data=data_high_val_cust, x='churn', y=attr+'_6', showfliers=False)\n",
    "    plt.subplot(2,3,2)\n",
    "    sns.boxplot(data=data_high_val_cust, x='churn', y=attr+'_7', showfliers=False)\n",
    "    plt.subplot(2,3,3)\n",
    "    sns.boxplot(data=data_high_val_cust, x='churn', y=attr+'_8', showfliers=False)\n",
    "    plt.show()"
   ]
  },
  {
   "cell_type": "code",
   "execution_count": 48,
   "metadata": {},
   "outputs": [
    {
     "data": {
      "image/png": "[encoded data removed]",
      "text/plain": [
       "<Figure size 1440x720 with 3 Axes>"
      ]
     },
     "metadata": {
      "needs_background": "light"
     },
     "output_type": "display_data"
    }
   ],
   "source": [
    "# Total Recharge amount\n",
    "plot_box_chart('total_rech_amt')\n",
    "# We see a drop in the total recharge amount for churned customers in the 8th Month (Action Phase)."
   ]
  },
  {
   "cell_type": "code",
   "execution_count": 49,
   "metadata": {},
   "outputs": [
    {
     "data": {
      "image/png": "[encoded data removed]",
      "text/plain": [
       "<Figure size 1440x720 with 3 Axes>"
      ]
     },
     "metadata": {
      "needs_background": "light"
     },
     "output_type": "display_data"
    }
   ],
   "source": [
    "# Total Recharge amount data\n",
    "\n",
    "plot_box_chart('total_rech_amt_data')"
   ]
  },
  {
   "cell_type": "markdown",
   "metadata": {},
   "source": [
    "We see a huge drop in the total recharge amount of data for churned customers in the 8th Month (Action Phase)."
   ]
  },
  {
   "cell_type": "code",
   "execution_count": 50,
   "metadata": {},
   "outputs": [
    {
     "data": {
      "image/png": "[encoded data removed]",
      "text/plain": [
       "<Figure size 1440x720 with 3 Axes>"
      ]
     },
     "metadata": {
      "needs_background": "light"
     },
     "output_type": "display_data"
    }
   ],
   "source": [
    "# Max Recharge amount\n",
    "\n",
    "plot_box_chart('max_rech_amt')"
   ]
  },
  {
   "cell_type": "markdown",
   "metadata": {},
   "source": [
    "We see a drop in the max recharge amount for churned customers in the 8th Month (Action Phase)."
   ]
  },
  {
   "cell_type": "code",
   "execution_count": 51,
   "metadata": {},
   "outputs": [
    {
     "data": {
      "text/plain": [
       "max_rech_data_6    44.112443\n",
       "max_rech_data_7    43.117551\n",
       "max_rech_data_8    46.799987\n",
       "dtype: float64"
      ]
     },
     "execution_count": 51,
     "metadata": {},
     "output_type": "execute_result"
    }
   ],
   "source": [
    "data_high_val_cust[['max_rech_data_6', 'max_rech_data_7', 'max_rech_data_8']].isnull().sum() * 100 / len(data_high_val_cust)"
   ]
  },
  {
   "cell_type": "code",
   "execution_count": 52,
   "metadata": {},
   "outputs": [
    {
     "data": {
      "text/html": [
       "<div>\n",
       "<style scoped>\n",
       "    .dataframe tbody tr th:only-of-type {\n",
       "        vertical-align: middle;\n",
       "    }\n",
       "\n",
       "    .dataframe tbody tr th {\n",
       "        vertical-align: top;\n",
       "    }\n",
       "\n",
       "    .dataframe thead th {\n",
       "        text-align: right;\n",
       "    }\n",
       "</style>\n",
       "<table border=\"1\" class=\"dataframe\">\n",
       "  <thead>\n",
       "    <tr style=\"text-align: right;\">\n",
       "      <th></th>\n",
       "      <th>max_rech_data_6</th>\n",
       "      <th>max_rech_data_7</th>\n",
       "      <th>max_rech_data_8</th>\n",
       "    </tr>\n",
       "  </thead>\n",
       "  <tbody>\n",
       "    <tr>\n",
       "      <th>count</th>\n",
       "      <td>16740.000000</td>\n",
       "      <td>17038.000000</td>\n",
       "      <td>15935.000000</td>\n",
       "    </tr>\n",
       "    <tr>\n",
       "      <th>mean</th>\n",
       "      <td>139.804002</td>\n",
       "      <td>140.444712</td>\n",
       "      <td>136.353373</td>\n",
       "    </tr>\n",
       "    <tr>\n",
       "      <th>std</th>\n",
       "      <td>118.892926</td>\n",
       "      <td>120.295284</td>\n",
       "      <td>119.571138</td>\n",
       "    </tr>\n",
       "    <tr>\n",
       "      <th>min</th>\n",
       "      <td>1.000000</td>\n",
       "      <td>1.000000</td>\n",
       "      <td>1.000000</td>\n",
       "    </tr>\n",
       "    <tr>\n",
       "      <th>25%</th>\n",
       "      <td>25.000000</td>\n",
       "      <td>25.000000</td>\n",
       "      <td>25.000000</td>\n",
       "    </tr>\n",
       "    <tr>\n",
       "      <th>50%</th>\n",
       "      <td>152.000000</td>\n",
       "      <td>152.000000</td>\n",
       "      <td>152.000000</td>\n",
       "    </tr>\n",
       "    <tr>\n",
       "      <th>75%</th>\n",
       "      <td>198.000000</td>\n",
       "      <td>198.000000</td>\n",
       "      <td>198.000000</td>\n",
       "    </tr>\n",
       "    <tr>\n",
       "      <th>max</th>\n",
       "      <td>1555.000000</td>\n",
       "      <td>1555.000000</td>\n",
       "      <td>1555.000000</td>\n",
       "    </tr>\n",
       "  </tbody>\n",
       "</table>\n",
       "</div>"
      ],
      "text/plain": [
       "       max_rech_data_6  max_rech_data_7  max_rech_data_8\n",
       "count     16740.000000     17038.000000     15935.000000\n",
       "mean        139.804002       140.444712       136.353373\n",
       "std         118.892926       120.295284       119.571138\n",
       "min           1.000000         1.000000         1.000000\n",
       "25%          25.000000        25.000000        25.000000\n",
       "50%         152.000000       152.000000       152.000000\n",
       "75%         198.000000       198.000000       198.000000\n",
       "max        1555.000000      1555.000000      1555.000000"
      ]
     },
     "execution_count": 52,
     "metadata": {},
     "output_type": "execute_result"
    }
   ],
   "source": [
    "data_high_val_cust[['max_rech_data_6', 'max_rech_data_7', 'max_rech_data_8']].describe()"
   ]
  },
  {
   "cell_type": "markdown",
   "metadata": {},
   "source": [
    "We would fill the null values with 0 indicating no recharge was done"
   ]
  },
  {
   "cell_type": "code",
   "execution_count": 54,
   "metadata": {},
   "outputs": [],
   "source": [
    "data_high_val_cust['max_rech_data_6'].fillna(value=0, inplace=True)\n",
    "data_high_val_cust['max_rech_data_7'].fillna(value=0, inplace=True)\n",
    "data_high_val_cust['max_rech_data_8'].fillna(value=0, inplace=True)"
   ]
  },
  {
   "cell_type": "code",
   "execution_count": 55,
   "metadata": {},
   "outputs": [
    {
     "data": {
      "image/png": "[encoded data removed]",
      "text/plain": [
       "<Figure size 1440x720 with 3 Axes>"
      ]
     },
     "metadata": {
      "needs_background": "light"
     },
     "output_type": "display_data"
    }
   ],
   "source": [
    "# max_rech_data\n",
    "\n",
    "plot_box_chart('max_rech_data')"
   ]
  },
  {
   "cell_type": "markdown",
   "metadata": {},
   "source": [
    "We see a huge drop in the recharge of data"
   ]
  },
  {
   "cell_type": "code",
   "execution_count": 56,
   "metadata": {},
   "outputs": [
    {
     "data": {
      "image/png": "[encoded data removed]",
      "text/plain": [
       "<Figure size 1440x720 with 3 Axes>"
      ]
     },
     "metadata": {
      "needs_background": "light"
     },
     "output_type": "display_data"
    }
   ],
   "source": [
    "# last day recharge amount\n",
    "\n",
    "plot_box_chart('last_day_rch_amt')"
   ]
  },
  {
   "cell_type": "markdown",
   "metadata": {},
   "source": [
    "We see a huge drop in last day recharge amount"
   ]
  },
  {
   "cell_type": "code",
   "execution_count": 57,
   "metadata": {},
   "outputs": [
    {
     "data": {
      "text/plain": [
       "Index(['count_rech_2g_6', 'count_rech_2g_7', 'count_rech_2g_8',\n",
       "       'count_rech_3g_6', 'count_rech_3g_7', 'count_rech_3g_8', 'vol_2g_mb_6',\n",
       "       'vol_2g_mb_7', 'vol_2g_mb_8', 'vol_3g_mb_6', 'vol_3g_mb_7',\n",
       "       'vol_3g_mb_8', 'arpu_3g_6', 'arpu_3g_7', 'arpu_3g_8', 'arpu_2g_6',\n",
       "       'arpu_2g_7', 'arpu_2g_8', 'monthly_2g_6', 'monthly_2g_7',\n",
       "       'monthly_2g_8', 'sachet_2g_6', 'sachet_2g_7', 'sachet_2g_8',\n",
       "       'monthly_3g_6', 'monthly_3g_7', 'monthly_3g_8', 'sachet_3g_6',\n",
       "       'sachet_3g_7', 'sachet_3g_8', 'aug_vbc_3g', 'jul_vbc_3g', 'jun_vbc_3g',\n",
       "       'sep_vbc_3g'],\n",
       "      dtype='object')"
      ]
     },
     "execution_count": 57,
     "metadata": {},
     "output_type": "execute_result"
    }
   ],
   "source": [
    "usage_2g_3g = data_high_val_cust.columns[data_high_val_cust.columns.str.contains('2g|3g',regex=True)]\n",
    "usage_2g_3g"
   ]
  },
  {
   "cell_type": "code",
   "execution_count": 58,
   "metadata": {},
   "outputs": [
    {
     "data": {
      "text/plain": [
       "count_rech_2g_6    44.112443\n",
       "count_rech_2g_7    43.117551\n",
       "count_rech_2g_8    46.799987\n",
       "count_rech_3g_6    44.112443\n",
       "count_rech_3g_7    43.117551\n",
       "count_rech_3g_8    46.799987\n",
       "vol_2g_mb_6         0.000000\n",
       "vol_2g_mb_7         0.000000\n",
       "vol_2g_mb_8         0.000000\n",
       "vol_3g_mb_6         0.000000\n",
       "vol_3g_mb_7         0.000000\n",
       "vol_3g_mb_8         0.000000\n",
       "arpu_3g_6          44.112443\n",
       "arpu_3g_7          43.117551\n",
       "arpu_3g_8          46.799987\n",
       "arpu_2g_6          44.112443\n",
       "arpu_2g_7          43.117551\n",
       "arpu_2g_8          46.799987\n",
       "monthly_2g_6        0.000000\n",
       "monthly_2g_7        0.000000\n",
       "monthly_2g_8        0.000000\n",
       "sachet_2g_6         0.000000\n",
       "sachet_2g_7         0.000000\n",
       "sachet_2g_8         0.000000\n",
       "monthly_3g_6        0.000000\n",
       "monthly_3g_7        0.000000\n",
       "monthly_3g_8        0.000000\n",
       "sachet_3g_6         0.000000\n",
       "sachet_3g_7         0.000000\n",
       "sachet_3g_8         0.000000\n",
       "aug_vbc_3g          0.000000\n",
       "jul_vbc_3g          0.000000\n",
       "jun_vbc_3g          0.000000\n",
       "sep_vbc_3g          0.000000\n",
       "dtype: float64"
      ]
     },
     "execution_count": 58,
     "metadata": {},
     "output_type": "execute_result"
    }
   ],
   "source": [
    "# Null value percentage of 2g 3g attributes\n",
    "\n",
    "data_high_val_cust[usage_2g_3g].isnull().sum() * 100 / len(data_high_val_cust)"
   ]
  },
  {
   "cell_type": "code",
   "execution_count": 59,
   "metadata": {},
   "outputs": [],
   "source": [
    "# We will drop the 2g/2g related columns with more than 40% null values\n",
    "\n",
    "data_high_val_cust.drop(['count_rech_2g_6','count_rech_2g_7','count_rech_2g_8','count_rech_3g_6','count_rech_3g_7','count_rech_3g_8'], axis=1, inplace=True)\n",
    "data_high_val_cust.drop(['arpu_2g_6','arpu_2g_7','arpu_2g_8','arpu_3g_6','arpu_3g_7','arpu_3g_8'], axis=1, inplace=True)"
   ]
  },
  {
   "cell_type": "code",
   "execution_count": 60,
   "metadata": {},
   "outputs": [
    {
     "data": {
      "text/plain": [
       "Index(['arpu_6', 'arpu_7', 'arpu_8', 'onnet_mou_6', 'onnet_mou_7',\n",
       "       'onnet_mou_8', 'offnet_mou_6', 'offnet_mou_7', 'offnet_mou_8',\n",
       "       'roam_ic_mou_6',\n",
       "       ...\n",
       "       'aon', 'aug_vbc_3g', 'jul_vbc_3g', 'jun_vbc_3g', 'sep_vbc_3g',\n",
       "       'total_rech_amt_data_6', 'total_rech_amt_data_7',\n",
       "       'total_rech_amt_data_8', 'avg_rech_amt_goodPhase', 'churn'],\n",
       "      dtype='object', length=151)"
      ]
     },
     "execution_count": 60,
     "metadata": {},
     "output_type": "execute_result"
    }
   ],
   "source": [
    "data_high_val_cust.columns"
   ]
  },
  {
   "cell_type": "code",
   "execution_count": 61,
   "metadata": {},
   "outputs": [
    {
     "data": {
      "image/png": "[encoded data removed]",
      "text/plain": [
       "<Figure size 1440x720 with 3 Axes>"
      ]
     },
     "metadata": {
      "needs_background": "light"
     },
     "output_type": "display_data"
    }
   ],
   "source": [
    "# vol_2g_mb\n",
    "\n",
    "plot_box_chart('vol_2g_mb')"
   ]
  },
  {
   "cell_type": "markdown",
   "metadata": {},
   "source": [
    "We see a huge drop in the 2g mobile internet usage in September"
   ]
  },
  {
   "cell_type": "code",
   "execution_count": 63,
   "metadata": {},
   "outputs": [
    {
     "data": {
      "image/png": "[encoded data removed]",
      "text/plain": [
       "<Figure size 1440x720 with 3 Axes>"
      ]
     },
     "metadata": {
      "needs_background": "light"
     },
     "output_type": "display_data"
    }
   ],
   "source": [
    "# vol_3g_mb\n",
    "\n",
    "plot_box_chart('vol_3g_mb')"
   ]
  },
  {
   "cell_type": "markdown",
   "metadata": {},
   "source": [
    "We see a drop in the 3g mobile internet usage in August & September"
   ]
  },
  {
   "cell_type": "markdown",
   "metadata": {},
   "source": [
    "We see very less usage of 2g/3g mobile network in churned data this may denote that the churned customers are from areas where 2G/3G service is not properly available"
   ]
  },
  {
   "cell_type": "code",
   "execution_count": 64,
   "metadata": {},
   "outputs": [
    {
     "data": {
      "image/png": "[encoded data removed]",
      "text/plain": [
       "<Figure size 1440x720 with 3 Axes>"
      ]
     },
     "metadata": {
      "needs_background": "light"
     },
     "output_type": "display_data"
    }
   ],
   "source": [
    "# Ploting for monthly subscription\n",
    "\n",
    "plot_box_chart('arpu')"
   ]
  },
  {
   "cell_type": "code",
   "execution_count": 65,
   "metadata": {},
   "outputs": [
    {
     "data": {
      "text/plain": [
       "Index(['onnet_mou_6', 'onnet_mou_7', 'onnet_mou_8', 'offnet_mou_6',\n",
       "       'offnet_mou_7', 'offnet_mou_8', 'roam_ic_mou_6', 'roam_ic_mou_7',\n",
       "       'roam_ic_mou_8', 'roam_og_mou_6', 'roam_og_mou_7', 'roam_og_mou_8',\n",
       "       'loc_og_t2t_mou_6', 'loc_og_t2t_mou_7', 'loc_og_t2t_mou_8',\n",
       "       'loc_og_t2m_mou_6', 'loc_og_t2m_mou_7', 'loc_og_t2m_mou_8',\n",
       "       'loc_og_t2f_mou_6', 'loc_og_t2f_mou_7', 'loc_og_t2f_mou_8',\n",
       "       'loc_og_t2c_mou_6', 'loc_og_t2c_mou_7', 'loc_og_t2c_mou_8',\n",
       "       'loc_og_mou_6', 'loc_og_mou_7', 'loc_og_mou_8', 'std_og_t2t_mou_6',\n",
       "       'std_og_t2t_mou_7', 'std_og_t2t_mou_8', 'std_og_t2m_mou_6',\n",
       "       'std_og_t2m_mou_7', 'std_og_t2m_mou_8', 'std_og_t2f_mou_6',\n",
       "       'std_og_t2f_mou_7', 'std_og_t2f_mou_8', 'std_og_mou_6', 'std_og_mou_7',\n",
       "       'std_og_mou_8', 'isd_og_mou_6', 'isd_og_mou_7', 'isd_og_mou_8',\n",
       "       'spl_og_mou_6', 'spl_og_mou_7', 'spl_og_mou_8', 'total_og_mou_6',\n",
       "       'total_og_mou_7', 'total_og_mou_8', 'loc_ic_t2t_mou_6',\n",
       "       'loc_ic_t2t_mou_7', 'loc_ic_t2t_mou_8', 'loc_ic_t2m_mou_6',\n",
       "       'loc_ic_t2m_mou_7', 'loc_ic_t2m_mou_8', 'loc_ic_t2f_mou_6',\n",
       "       'loc_ic_t2f_mou_7', 'loc_ic_t2f_mou_8', 'loc_ic_mou_6', 'loc_ic_mou_7',\n",
       "       'loc_ic_mou_8', 'std_ic_t2t_mou_6', 'std_ic_t2t_mou_7',\n",
       "       'std_ic_t2t_mou_8', 'std_ic_t2m_mou_6', 'std_ic_t2m_mou_7',\n",
       "       'std_ic_t2m_mou_8', 'std_ic_t2f_mou_6', 'std_ic_t2f_mou_7',\n",
       "       'std_ic_t2f_mou_8', 'std_ic_mou_6', 'std_ic_mou_7', 'std_ic_mou_8',\n",
       "       'total_ic_mou_6', 'total_ic_mou_7', 'total_ic_mou_8', 'spl_ic_mou_6',\n",
       "       'spl_ic_mou_7', 'spl_ic_mou_8', 'isd_ic_mou_6', 'isd_ic_mou_7',\n",
       "       'isd_ic_mou_8'],\n",
       "      dtype='object')"
      ]
     },
     "execution_count": 65,
     "metadata": {},
     "output_type": "execute_result"
    }
   ],
   "source": [
    "# minutes of usage\n",
    "\n",
    "mou_cols = data_high_val_cust.columns[data_high_val_cust.columns.str.contains('mou')]\n",
    "mou_cols"
   ]
  },
  {
   "cell_type": "code",
   "execution_count": 66,
   "metadata": {},
   "outputs": [
    {
     "data": {
      "text/plain": [
       "onnet_mou_6     1.809502\n",
       "onnet_mou_7     1.789470\n",
       "onnet_mou_8     3.912797\n",
       "offnet_mou_6    1.809502\n",
       "offnet_mou_7    1.789470\n",
       "                  ...   \n",
       "spl_ic_mou_7    1.789470\n",
       "spl_ic_mou_8    3.912797\n",
       "isd_ic_mou_6    1.809502\n",
       "isd_ic_mou_7    1.789470\n",
       "isd_ic_mou_8    3.912797\n",
       "Length: 81, dtype: float64"
      ]
     },
     "execution_count": 66,
     "metadata": {},
     "output_type": "execute_result"
    }
   ],
   "source": [
    "data_high_val_cust[mou_cols].isnull().sum() * 100 /len(data_high_val_cust)"
   ]
  },
  {
   "cell_type": "code",
   "execution_count": 67,
   "metadata": {},
   "outputs": [
    {
     "data": {
      "text/plain": [
       "3.91279671485327"
      ]
     },
     "execution_count": 67,
     "metadata": {},
     "output_type": "execute_result"
    }
   ],
   "source": [
    "max(data_high_val_cust[mou_cols].isnull().sum() * 100 /len(data_high_val_cust))"
   ]
  },
  {
   "cell_type": "markdown",
   "metadata": {},
   "source": [
    "Here the max of all minutes of usage columns is 3.91% "
   ]
  },
  {
   "cell_type": "code",
   "execution_count": 68,
   "metadata": {},
   "outputs": [],
   "source": [
    "# We can consider the customer has not used network at all for that particular call type, thus filling the missing values with 0\n",
    "\n",
    "data_high_val_cust.loc[:,mou_cols] = data_high_val_cust.loc[:,mou_cols].replace(np.NaN,0)"
   ]
  },
  {
   "cell_type": "code",
   "execution_count": 69,
   "metadata": {},
   "outputs": [],
   "source": [
    "mou_og_cols6 = data_high_val_cust.columns[data_high_val_cust.columns.str.contains('.*_og_.*mou_6',regex=True)]"
   ]
  },
  {
   "cell_type": "code",
   "execution_count": 70,
   "metadata": {},
   "outputs": [
    {
     "data": {
      "text/html": [
       "<div>\n",
       "<style scoped>\n",
       "    .dataframe tbody tr th:only-of-type {\n",
       "        vertical-align: middle;\n",
       "    }\n",
       "\n",
       "    .dataframe tbody tr th {\n",
       "        vertical-align: top;\n",
       "    }\n",
       "\n",
       "    .dataframe thead th {\n",
       "        text-align: right;\n",
       "    }\n",
       "</style>\n",
       "<table border=\"1\" class=\"dataframe\">\n",
       "  <thead>\n",
       "    <tr style=\"text-align: right;\">\n",
       "      <th></th>\n",
       "      <th>roam_og_mou_6</th>\n",
       "      <th>loc_og_t2t_mou_6</th>\n",
       "      <th>loc_og_t2m_mou_6</th>\n",
       "      <th>loc_og_t2f_mou_6</th>\n",
       "      <th>loc_og_t2c_mou_6</th>\n",
       "      <th>loc_og_mou_6</th>\n",
       "      <th>std_og_t2t_mou_6</th>\n",
       "      <th>std_og_t2m_mou_6</th>\n",
       "      <th>std_og_t2f_mou_6</th>\n",
       "      <th>std_og_mou_6</th>\n",
       "      <th>isd_og_mou_6</th>\n",
       "      <th>spl_og_mou_6</th>\n",
       "      <th>total_og_mou_6</th>\n",
       "    </tr>\n",
       "  </thead>\n",
       "  <tbody>\n",
       "    <tr>\n",
       "      <th>count</th>\n",
       "      <td>29953.000000</td>\n",
       "      <td>29953.000000</td>\n",
       "      <td>29953.000000</td>\n",
       "      <td>29953.000000</td>\n",
       "      <td>29953.000000</td>\n",
       "      <td>29953.000000</td>\n",
       "      <td>29953.000000</td>\n",
       "      <td>29953.000000</td>\n",
       "      <td>29953.000000</td>\n",
       "      <td>29953.000000</td>\n",
       "      <td>29953.000000</td>\n",
       "      <td>29953.000000</td>\n",
       "      <td>29953.000000</td>\n",
       "    </tr>\n",
       "    <tr>\n",
       "      <th>mean</th>\n",
       "      <td>26.596033</td>\n",
       "      <td>84.574122</td>\n",
       "      <td>163.309546</td>\n",
       "      <td>6.348347</td>\n",
       "      <td>1.577380</td>\n",
       "      <td>254.240239</td>\n",
       "      <td>165.897941</td>\n",
       "      <td>179.439168</td>\n",
       "      <td>1.806292</td>\n",
       "      <td>347.147123</td>\n",
       "      <td>2.174995</td>\n",
       "      <td>5.825077</td>\n",
       "      <td>610.058005</td>\n",
       "    </tr>\n",
       "    <tr>\n",
       "      <th>std</th>\n",
       "      <td>116.274169</td>\n",
       "      <td>228.962993</td>\n",
       "      <td>250.218928</td>\n",
       "      <td>22.139546</td>\n",
       "      <td>6.308138</td>\n",
       "      <td>378.546516</td>\n",
       "      <td>403.990737</td>\n",
       "      <td>409.143255</td>\n",
       "      <td>11.988810</td>\n",
       "      <td>608.845412</td>\n",
       "      <td>45.888834</td>\n",
       "      <td>17.579228</td>\n",
       "      <td>691.178402</td>\n",
       "    </tr>\n",
       "    <tr>\n",
       "      <th>min</th>\n",
       "      <td>0.000000</td>\n",
       "      <td>0.000000</td>\n",
       "      <td>0.000000</td>\n",
       "      <td>0.000000</td>\n",
       "      <td>0.000000</td>\n",
       "      <td>0.000000</td>\n",
       "      <td>0.000000</td>\n",
       "      <td>0.000000</td>\n",
       "      <td>0.000000</td>\n",
       "      <td>0.000000</td>\n",
       "      <td>0.000000</td>\n",
       "      <td>0.000000</td>\n",
       "      <td>0.000000</td>\n",
       "    </tr>\n",
       "    <tr>\n",
       "      <th>25%</th>\n",
       "      <td>0.000000</td>\n",
       "      <td>4.380000</td>\n",
       "      <td>19.210000</td>\n",
       "      <td>0.000000</td>\n",
       "      <td>0.000000</td>\n",
       "      <td>32.260000</td>\n",
       "      <td>0.000000</td>\n",
       "      <td>0.000000</td>\n",
       "      <td>0.000000</td>\n",
       "      <td>0.400000</td>\n",
       "      <td>0.000000</td>\n",
       "      <td>0.000000</td>\n",
       "      <td>116.640000</td>\n",
       "    </tr>\n",
       "    <tr>\n",
       "      <th>50%</th>\n",
       "      <td>0.000000</td>\n",
       "      <td>24.360000</td>\n",
       "      <td>77.260000</td>\n",
       "      <td>0.000000</td>\n",
       "      <td>0.000000</td>\n",
       "      <td>124.590000</td>\n",
       "      <td>2.710000</td>\n",
       "      <td>16.360000</td>\n",
       "      <td>0.000000</td>\n",
       "      <td>45.080000</td>\n",
       "      <td>0.000000</td>\n",
       "      <td>0.230000</td>\n",
       "      <td>410.630000</td>\n",
       "    </tr>\n",
       "    <tr>\n",
       "      <th>75%</th>\n",
       "      <td>0.000000</td>\n",
       "      <td>78.060000</td>\n",
       "      <td>209.030000</td>\n",
       "      <td>4.230000</td>\n",
       "      <td>0.000000</td>\n",
       "      <td>332.310000</td>\n",
       "      <td>109.560000</td>\n",
       "      <td>154.540000</td>\n",
       "      <td>0.000000</td>\n",
       "      <td>465.290000</td>\n",
       "      <td>0.000000</td>\n",
       "      <td>5.210000</td>\n",
       "      <td>859.030000</td>\n",
       "    </tr>\n",
       "    <tr>\n",
       "      <th>max</th>\n",
       "      <td>3775.110000</td>\n",
       "      <td>6431.330000</td>\n",
       "      <td>4729.740000</td>\n",
       "      <td>1466.030000</td>\n",
       "      <td>271.440000</td>\n",
       "      <td>10643.380000</td>\n",
       "      <td>7366.580000</td>\n",
       "      <td>8314.760000</td>\n",
       "      <td>628.560000</td>\n",
       "      <td>8432.990000</td>\n",
       "      <td>5900.660000</td>\n",
       "      <td>1023.210000</td>\n",
       "      <td>10674.030000</td>\n",
       "    </tr>\n",
       "  </tbody>\n",
       "</table>\n",
       "</div>"
      ],
      "text/plain": [
       "       roam_og_mou_6  loc_og_t2t_mou_6  loc_og_t2m_mou_6  loc_og_t2f_mou_6  \\\n",
       "count   29953.000000      29953.000000      29953.000000      29953.000000   \n",
       "mean       26.596033         84.574122        163.309546          6.348347   \n",
       "std       116.274169        228.962993        250.218928         22.139546   \n",
       "min         0.000000          0.000000          0.000000          0.000000   \n",
       "25%         0.000000          4.380000         19.210000          0.000000   \n",
       "50%         0.000000         24.360000         77.260000          0.000000   \n",
       "75%         0.000000         78.060000        209.030000          4.230000   \n",
       "max      3775.110000       6431.330000       4729.740000       1466.030000   \n",
       "\n",
       "       loc_og_t2c_mou_6  loc_og_mou_6  std_og_t2t_mou_6  std_og_t2m_mou_6  \\\n",
       "count      29953.000000  29953.000000      29953.000000      29953.000000   \n",
       "mean           1.577380    254.240239        165.897941        179.439168   \n",
       "std            6.308138    378.546516        403.990737        409.143255   \n",
       "min            0.000000      0.000000          0.000000          0.000000   \n",
       "25%            0.000000     32.260000          0.000000          0.000000   \n",
       "50%            0.000000    124.590000          2.710000         16.360000   \n",
       "75%            0.000000    332.310000        109.560000        154.540000   \n",
       "max          271.440000  10643.380000       7366.580000       8314.760000   \n",
       "\n",
       "       std_og_t2f_mou_6  std_og_mou_6  isd_og_mou_6  spl_og_mou_6  \\\n",
       "count      29953.000000  29953.000000  29953.000000  29953.000000   \n",
       "mean           1.806292    347.147123      2.174995      5.825077   \n",
       "std           11.988810    608.845412     45.888834     17.579228   \n",
       "min            0.000000      0.000000      0.000000      0.000000   \n",
       "25%            0.000000      0.400000      0.000000      0.000000   \n",
       "50%            0.000000     45.080000      0.000000      0.230000   \n",
       "75%            0.000000    465.290000      0.000000      5.210000   \n",
       "max          628.560000   8432.990000   5900.660000   1023.210000   \n",
       "\n",
       "       total_og_mou_6  \n",
       "count    29953.000000  \n",
       "mean       610.058005  \n",
       "std        691.178402  \n",
       "min          0.000000  \n",
       "25%        116.640000  \n",
       "50%        410.630000  \n",
       "75%        859.030000  \n",
       "max      10674.030000  "
      ]
     },
     "execution_count": 70,
     "metadata": {},
     "output_type": "execute_result"
    }
   ],
   "source": [
    "data_high_val_cust[mou_og_cols6].describe()"
   ]
  },
  {
   "cell_type": "code",
   "execution_count": 71,
   "metadata": {},
   "outputs": [
    {
     "data": {
      "image/png": "[encoded data removed]",
      "text/plain": [
       "<Figure size 864x432 with 2 Axes>"
      ]
     },
     "metadata": {
      "needs_background": "light"
     },
     "output_type": "display_data"
    }
   ],
   "source": [
    "plt.figure(figsize=(12,6))\n",
    "sns.heatmap(data_high_val_cust.filter(mou_og_cols6).corr(),cmap=\"OrRd\",annot=True)\n",
    "plt.show()"
   ]
  },
  {
   "cell_type": "markdown",
   "metadata": {},
   "source": [
    "total_ic_mou_6, std_ic_mou_6 and loc_ic_mou_6 have strong correlation with other fields"
   ]
  },
  {
   "cell_type": "code",
   "execution_count": 72,
   "metadata": {},
   "outputs": [
    {
     "name": "stdout",
     "output_type": "stream",
     "text": [
      "       total_og_mou_6  std_og_mou_6  loc_og_mou_6\n",
      "0                0.00          0.00          0.00\n",
      "7              487.53         60.86        422.16\n",
      "8              508.36        130.26        378.09\n",
      "21             860.34        763.29         97.04\n",
      "23             134.38          2.36        131.91\n",
      "...               ...           ...           ...\n",
      "99981          134.81          6.15        124.74\n",
      "99984          464.58          0.03        441.96\n",
      "99986         1600.79        284.39       1300.43\n",
      "99988          375.78         67.66        308.11\n",
      "99997            0.00          0.00          0.00\n",
      "\n",
      "[29953 rows x 3 columns]\n"
     ]
    }
   ],
   "source": [
    "print(data_high_val_cust.loc[:,['total_og_mou_6','std_og_mou_6','loc_og_mou_6']])"
   ]
  },
  {
   "cell_type": "code",
   "execution_count": 73,
   "metadata": {},
   "outputs": [
    {
     "name": "stdout",
     "output_type": "stream",
     "text": [
      "487.53\n",
      "487.52000000000004\n"
     ]
    }
   ],
   "source": [
    "print(data_high_val_cust.loc[7,'total_og_mou_6'])\n",
    "print(data_high_val_cust.loc[7,['loc_og_mou_6','std_og_mou_6','spl_og_mou_6','isd_og_mou_6','og_others_6']].sum())"
   ]
  },
  {
   "cell_type": "code",
   "execution_count": 74,
   "metadata": {},
   "outputs": [
    {
     "name": "stdout",
     "output_type": "stream",
     "text": [
      "60.86\n",
      "60.849999999999994\n"
     ]
    }
   ],
   "source": [
    "print(data_high_val_cust.loc[7,'std_og_mou_6'])\n",
    "print(data_high_val_cust.loc[7,['std_og_t2m_mou_6','std_og_t2t_mou_6','std_og_t2f_mou_6']].sum())"
   ]
  },
  {
   "cell_type": "code",
   "execution_count": 75,
   "metadata": {},
   "outputs": [
    {
     "name": "stdout",
     "output_type": "stream",
     "text": [
      "422.16\n",
      "422.15\n"
     ]
    }
   ],
   "source": [
    "print(data_high_val_cust.loc[7,'loc_og_mou_6'])\n",
    "print(data_high_val_cust.loc[7,['loc_og_t2m_mou_6','loc_og_t2t_mou_6','loc_og_t2f_mou_6','loc_og_t2c_mou_6']].sum())"
   ]
  },
  {
   "cell_type": "code",
   "execution_count": 76,
   "metadata": {},
   "outputs": [
    {
     "data": {
      "text/plain": [
       "Index(['arpu_6', 'arpu_7', 'arpu_8', 'onnet_mou_6', 'onnet_mou_7',\n",
       "       'onnet_mou_8', 'offnet_mou_6', 'offnet_mou_7', 'offnet_mou_8',\n",
       "       'roam_ic_mou_6',\n",
       "       ...\n",
       "       'aon', 'aug_vbc_3g', 'jul_vbc_3g', 'jun_vbc_3g', 'sep_vbc_3g',\n",
       "       'total_rech_amt_data_6', 'total_rech_amt_data_7',\n",
       "       'total_rech_amt_data_8', 'avg_rech_amt_goodPhase', 'churn'],\n",
       "      dtype='object', length=142)"
      ]
     },
     "execution_count": 76,
     "metadata": {},
     "output_type": "execute_result"
    }
   ],
   "source": [
    "# total_og_mou_6, std_og_mou_6 and loc_og_mou_6 is a combination of other variables present in dataset.\n",
    "# Drop redundant columns\n",
    "\n",
    "total_og_cols = data_high_val_cust.columns[data_high_val_cust.columns.str.contains('total_og_mou|std_og_mou|loc_og_mou',regex=True)]\n",
    "data_high_val_cust.drop(total_og_cols,axis=1,inplace=True)\n",
    "data_high_val_cust.columns"
   ]
  },
  {
   "cell_type": "code",
   "execution_count": 77,
   "metadata": {},
   "outputs": [
    {
     "data": {
      "text/html": [
       "<div>\n",
       "<style scoped>\n",
       "    .dataframe tbody tr th:only-of-type {\n",
       "        vertical-align: middle;\n",
       "    }\n",
       "\n",
       "    .dataframe tbody tr th {\n",
       "        vertical-align: top;\n",
       "    }\n",
       "\n",
       "    .dataframe thead th {\n",
       "        text-align: right;\n",
       "    }\n",
       "</style>\n",
       "<table border=\"1\" class=\"dataframe\">\n",
       "  <thead>\n",
       "    <tr style=\"text-align: right;\">\n",
       "      <th></th>\n",
       "      <th>roam_ic_mou_6</th>\n",
       "      <th>loc_ic_t2t_mou_6</th>\n",
       "      <th>loc_ic_t2m_mou_6</th>\n",
       "      <th>loc_ic_t2f_mou_6</th>\n",
       "      <th>loc_ic_mou_6</th>\n",
       "      <th>std_ic_t2t_mou_6</th>\n",
       "      <th>std_ic_t2m_mou_6</th>\n",
       "      <th>std_ic_t2f_mou_6</th>\n",
       "      <th>std_ic_mou_6</th>\n",
       "      <th>total_ic_mou_6</th>\n",
       "      <th>spl_ic_mou_6</th>\n",
       "      <th>isd_ic_mou_6</th>\n",
       "    </tr>\n",
       "  </thead>\n",
       "  <tbody>\n",
       "    <tr>\n",
       "      <th>count</th>\n",
       "      <td>29953.000000</td>\n",
       "      <td>29953.000000</td>\n",
       "      <td>29953.000000</td>\n",
       "      <td>29953.000000</td>\n",
       "      <td>29953.000000</td>\n",
       "      <td>29953.000000</td>\n",
       "      <td>29953.000000</td>\n",
       "      <td>29953.000000</td>\n",
       "      <td>29953.000000</td>\n",
       "      <td>29953.000000</td>\n",
       "      <td>29953.000000</td>\n",
       "      <td>29953.000000</td>\n",
       "    </tr>\n",
       "    <tr>\n",
       "      <th>mean</th>\n",
       "      <td>16.124001</td>\n",
       "      <td>65.508916</td>\n",
       "      <td>150.474219</td>\n",
       "      <td>15.291721</td>\n",
       "      <td>231.284489</td>\n",
       "      <td>14.896832</td>\n",
       "      <td>29.212448</td>\n",
       "      <td>2.698829</td>\n",
       "      <td>46.811695</td>\n",
       "      <td>290.121569</td>\n",
       "      <td>0.061047</td>\n",
       "      <td>10.800999</td>\n",
       "    </tr>\n",
       "    <tr>\n",
       "      <th>std</th>\n",
       "      <td>76.344227</td>\n",
       "      <td>163.855393</td>\n",
       "      <td>219.321437</td>\n",
       "      <td>45.785255</td>\n",
       "      <td>315.005426</td>\n",
       "      <td>77.750215</td>\n",
       "      <td>98.279300</td>\n",
       "      <td>19.114766</td>\n",
       "      <td>137.597749</td>\n",
       "      <td>365.739944</td>\n",
       "      <td>0.188124</td>\n",
       "      <td>76.789627</td>\n",
       "    </tr>\n",
       "    <tr>\n",
       "      <th>min</th>\n",
       "      <td>0.000000</td>\n",
       "      <td>0.000000</td>\n",
       "      <td>0.000000</td>\n",
       "      <td>0.000000</td>\n",
       "      <td>0.000000</td>\n",
       "      <td>0.000000</td>\n",
       "      <td>0.000000</td>\n",
       "      <td>0.000000</td>\n",
       "      <td>0.000000</td>\n",
       "      <td>0.000000</td>\n",
       "      <td>0.000000</td>\n",
       "      <td>0.000000</td>\n",
       "    </tr>\n",
       "    <tr>\n",
       "      <th>25%</th>\n",
       "      <td>0.000000</td>\n",
       "      <td>6.100000</td>\n",
       "      <td>28.090000</td>\n",
       "      <td>0.000000</td>\n",
       "      <td>47.910000</td>\n",
       "      <td>0.000000</td>\n",
       "      <td>0.000000</td>\n",
       "      <td>0.000000</td>\n",
       "      <td>1.030000</td>\n",
       "      <td>72.890000</td>\n",
       "      <td>0.000000</td>\n",
       "      <td>0.000000</td>\n",
       "    </tr>\n",
       "    <tr>\n",
       "      <th>50%</th>\n",
       "      <td>0.000000</td>\n",
       "      <td>25.080000</td>\n",
       "      <td>84.110000</td>\n",
       "      <td>1.840000</td>\n",
       "      <td>134.560000</td>\n",
       "      <td>0.380000</td>\n",
       "      <td>5.000000</td>\n",
       "      <td>0.000000</td>\n",
       "      <td>11.410000</td>\n",
       "      <td>183.780000</td>\n",
       "      <td>0.000000</td>\n",
       "      <td>0.000000</td>\n",
       "    </tr>\n",
       "    <tr>\n",
       "      <th>75%</th>\n",
       "      <td>0.000000</td>\n",
       "      <td>67.480000</td>\n",
       "      <td>188.740000</td>\n",
       "      <td>11.980000</td>\n",
       "      <td>297.260000</td>\n",
       "      <td>8.190000</td>\n",
       "      <td>23.630000</td>\n",
       "      <td>0.110000</td>\n",
       "      <td>41.490000</td>\n",
       "      <td>372.160000</td>\n",
       "      <td>0.000000</td>\n",
       "      <td>0.000000</td>\n",
       "    </tr>\n",
       "    <tr>\n",
       "      <th>max</th>\n",
       "      <td>2613.310000</td>\n",
       "      <td>6351.440000</td>\n",
       "      <td>4693.860000</td>\n",
       "      <td>1678.410000</td>\n",
       "      <td>7454.630000</td>\n",
       "      <td>5459.560000</td>\n",
       "      <td>4630.230000</td>\n",
       "      <td>1351.110000</td>\n",
       "      <td>5459.630000</td>\n",
       "      <td>7716.140000</td>\n",
       "      <td>19.760000</td>\n",
       "      <td>6789.410000</td>\n",
       "    </tr>\n",
       "  </tbody>\n",
       "</table>\n",
       "</div>"
      ],
      "text/plain": [
       "       roam_ic_mou_6  loc_ic_t2t_mou_6  loc_ic_t2m_mou_6  loc_ic_t2f_mou_6  \\\n",
       "count   29953.000000      29953.000000      29953.000000      29953.000000   \n",
       "mean       16.124001         65.508916        150.474219         15.291721   \n",
       "std        76.344227        163.855393        219.321437         45.785255   \n",
       "min         0.000000          0.000000          0.000000          0.000000   \n",
       "25%         0.000000          6.100000         28.090000          0.000000   \n",
       "50%         0.000000         25.080000         84.110000          1.840000   \n",
       "75%         0.000000         67.480000        188.740000         11.980000   \n",
       "max      2613.310000       6351.440000       4693.860000       1678.410000   \n",
       "\n",
       "       loc_ic_mou_6  std_ic_t2t_mou_6  std_ic_t2m_mou_6  std_ic_t2f_mou_6  \\\n",
       "count  29953.000000      29953.000000      29953.000000      29953.000000   \n",
       "mean     231.284489         14.896832         29.212448          2.698829   \n",
       "std      315.005426         77.750215         98.279300         19.114766   \n",
       "min        0.000000          0.000000          0.000000          0.000000   \n",
       "25%       47.910000          0.000000          0.000000          0.000000   \n",
       "50%      134.560000          0.380000          5.000000          0.000000   \n",
       "75%      297.260000          8.190000         23.630000          0.110000   \n",
       "max     7454.630000       5459.560000       4630.230000       1351.110000   \n",
       "\n",
       "       std_ic_mou_6  total_ic_mou_6  spl_ic_mou_6  isd_ic_mou_6  \n",
       "count  29953.000000    29953.000000  29953.000000  29953.000000  \n",
       "mean      46.811695      290.121569      0.061047     10.800999  \n",
       "std      137.597749      365.739944      0.188124     76.789627  \n",
       "min        0.000000        0.000000      0.000000      0.000000  \n",
       "25%        1.030000       72.890000      0.000000      0.000000  \n",
       "50%       11.410000      183.780000      0.000000      0.000000  \n",
       "75%       41.490000      372.160000      0.000000      0.000000  \n",
       "max     5459.630000     7716.140000     19.760000   6789.410000  "
      ]
     },
     "execution_count": 77,
     "metadata": {},
     "output_type": "execute_result"
    }
   ],
   "source": [
    "# Incoming MOU\n",
    "\n",
    "mou_ic_cols6 = data_high_val_cust.columns[data_high_val_cust.columns.str.contains('.*_ic_.*mou_6',regex=True)]\n",
    "data_high_val_cust[mou_ic_cols6].describe()"
   ]
  },
  {
   "cell_type": "code",
   "execution_count": 78,
   "metadata": {},
   "outputs": [
    {
     "data": {
      "image/png": "[encoded data removed]",
      "text/plain": [
       "<Figure size 864x432 with 2 Axes>"
      ]
     },
     "metadata": {
      "needs_background": "light"
     },
     "output_type": "display_data"
    }
   ],
   "source": [
    "plt.figure(figsize=(12,6))\n",
    "sns.heatmap(data_high_val_cust.filter(mou_ic_cols6).corr(),cmap='OrRd', annot=True)\n",
    "plt.show()"
   ]
  },
  {
   "cell_type": "markdown",
   "metadata": {},
   "source": [
    "We see high correlations  total_ic_mou_6, std_ic_mou_6 and loc_ic_mou_6 with other fields"
   ]
  },
  {
   "cell_type": "code",
   "execution_count": 79,
   "metadata": {},
   "outputs": [
    {
     "data": {
      "text/html": [
       "<div>\n",
       "<style scoped>\n",
       "    .dataframe tbody tr th:only-of-type {\n",
       "        vertical-align: middle;\n",
       "    }\n",
       "\n",
       "    .dataframe tbody tr th {\n",
       "        vertical-align: top;\n",
       "    }\n",
       "\n",
       "    .dataframe thead th {\n",
       "        text-align: right;\n",
       "    }\n",
       "</style>\n",
       "<table border=\"1\" class=\"dataframe\">\n",
       "  <thead>\n",
       "    <tr style=\"text-align: right;\">\n",
       "      <th></th>\n",
       "      <th>total_ic_mou_6</th>\n",
       "      <th>loc_ic_mou_6</th>\n",
       "      <th>std_ic_mou_6</th>\n",
       "    </tr>\n",
       "  </thead>\n",
       "  <tbody>\n",
       "    <tr>\n",
       "      <th>0</th>\n",
       "      <td>0.00</td>\n",
       "      <td>0.00</td>\n",
       "      <td>0.00</td>\n",
       "    </tr>\n",
       "    <tr>\n",
       "      <th>7</th>\n",
       "      <td>626.46</td>\n",
       "      <td>427.88</td>\n",
       "      <td>180.54</td>\n",
       "    </tr>\n",
       "    <tr>\n",
       "      <th>8</th>\n",
       "      <td>103.86</td>\n",
       "      <td>81.43</td>\n",
       "      <td>22.43</td>\n",
       "    </tr>\n",
       "    <tr>\n",
       "      <th>21</th>\n",
       "      <td>207.09</td>\n",
       "      <td>125.33</td>\n",
       "      <td>81.76</td>\n",
       "    </tr>\n",
       "    <tr>\n",
       "      <th>23</th>\n",
       "      <td>119.58</td>\n",
       "      <td>116.63</td>\n",
       "      <td>2.94</td>\n",
       "    </tr>\n",
       "  </tbody>\n",
       "</table>\n",
       "</div>"
      ],
      "text/plain": [
       "    total_ic_mou_6  loc_ic_mou_6  std_ic_mou_6\n",
       "0             0.00          0.00          0.00\n",
       "7           626.46        427.88        180.54\n",
       "8           103.86         81.43         22.43\n",
       "21          207.09        125.33         81.76\n",
       "23          119.58        116.63          2.94"
      ]
     },
     "execution_count": 79,
     "metadata": {},
     "output_type": "execute_result"
    }
   ],
   "source": [
    "data_high_val_cust[['total_ic_mou_6','loc_ic_mou_6','std_ic_mou_6']].head()"
   ]
  },
  {
   "cell_type": "code",
   "execution_count": 80,
   "metadata": {},
   "outputs": [
    {
     "name": "stdout",
     "output_type": "stream",
     "text": [
      "626.46\n",
      "626.92\n"
     ]
    }
   ],
   "source": [
    "print(data_high_val_cust.loc[7,'total_ic_mou_6'])\n",
    "print(data_high_val_cust.loc[7,['loc_ic_mou_6','roam_ic_mou_6','isd_ic_mou_6','spl_ic_mou_6','std_ic_mou_6']].sum())"
   ]
  },
  {
   "cell_type": "code",
   "execution_count": 81,
   "metadata": {},
   "outputs": [
    {
     "name": "stdout",
     "output_type": "stream",
     "text": [
      "427.88\n",
      "427.86\n"
     ]
    }
   ],
   "source": [
    "print(data_high_val_cust.loc[7,'loc_ic_mou_6'])\n",
    "print(data_high_val_cust.loc[7,['loc_ic_t2t_mou_6','loc_ic_t2m_mou_6','loc_ic_t2f_mou_6']].sum())"
   ]
  },
  {
   "cell_type": "code",
   "execution_count": 82,
   "metadata": {},
   "outputs": [
    {
     "name": "stdout",
     "output_type": "stream",
     "text": [
      "180.54\n",
      "180.51999999999998\n"
     ]
    }
   ],
   "source": [
    "print(data_high_val_cust.loc[7,'std_ic_mou_6'])\n",
    "print(data_high_val_cust.loc[7,['std_ic_t2t_mou_6','std_ic_t2m_mou_6','std_ic_t2f_mou_6']].sum())"
   ]
  },
  {
   "cell_type": "code",
   "execution_count": 83,
   "metadata": {},
   "outputs": [
    {
     "data": {
      "text/plain": [
       "Index(['arpu_6', 'arpu_7', 'arpu_8', 'onnet_mou_6', 'onnet_mou_7',\n",
       "       'onnet_mou_8', 'offnet_mou_6', 'offnet_mou_7', 'offnet_mou_8',\n",
       "       'roam_ic_mou_6',\n",
       "       ...\n",
       "       'aon', 'aug_vbc_3g', 'jul_vbc_3g', 'jun_vbc_3g', 'sep_vbc_3g',\n",
       "       'total_rech_amt_data_6', 'total_rech_amt_data_7',\n",
       "       'total_rech_amt_data_8', 'avg_rech_amt_goodPhase', 'churn'],\n",
       "      dtype='object', length=133)"
      ]
     },
     "execution_count": 83,
     "metadata": {},
     "output_type": "execute_result"
    }
   ],
   "source": [
    "# total_ic_mou_6, std_ic_mou_6 and loc_ic_mou_6 is a combination of other variables present in dataset.\n",
    "# Drop the redundant columns\n",
    "\n",
    "total_ic_cols = data_high_val_cust.columns[data_high_val_cust.columns.str.contains('total_ic_mou|std_ic_mou|loc_ic_mou',regex=True)]\n",
    "data_high_val_cust.drop(total_ic_cols,axis=1,inplace=True)\n",
    "data_high_val_cust.columns"
   ]
  },
  {
   "cell_type": "code",
   "execution_count": 84,
   "metadata": {},
   "outputs": [
    {
     "data": {
      "image/png": "[encoded data removed]",
      "text/plain": [
       "<Figure size 1440x720 with 3 Axes>"
      ]
     },
     "metadata": {
      "needs_background": "light"
     },
     "output_type": "display_data"
    }
   ],
   "source": [
    "# Offnet mou values for churned and non churned customers\n",
    "\n",
    "plot_box_chart('offnet_mou')"
   ]
  },
  {
   "cell_type": "code",
   "execution_count": 85,
   "metadata": {},
   "outputs": [
    {
     "data": {
      "image/png": "[encoded data removed]",
      "text/plain": [
       "<Figure size 1440x720 with 3 Axes>"
      ]
     },
     "metadata": {
      "needs_background": "light"
     },
     "output_type": "display_data"
    }
   ],
   "source": [
    "# Plotting onnet\n",
    "\n",
    "plot_box_chart('onnet_mou')"
   ]
  },
  {
   "cell_type": "markdown",
   "metadata": {},
   "source": [
    "We can see the drop in churned customers for both offnet and onnet customers in the 8th month "
   ]
  },
  {
   "cell_type": "code",
   "execution_count": 86,
   "metadata": {},
   "outputs": [
    {
     "data": {
      "text/html": [
       "<div>\n",
       "<style scoped>\n",
       "    .dataframe tbody tr th:only-of-type {\n",
       "        vertical-align: middle;\n",
       "    }\n",
       "\n",
       "    .dataframe tbody tr th {\n",
       "        vertical-align: top;\n",
       "    }\n",
       "\n",
       "    .dataframe thead th {\n",
       "        text-align: right;\n",
       "    }\n",
       "</style>\n",
       "<table border=\"1\" class=\"dataframe\">\n",
       "  <thead>\n",
       "    <tr style=\"text-align: right;\">\n",
       "      <th></th>\n",
       "      <th>arpu_6</th>\n",
       "      <th>arpu_7</th>\n",
       "      <th>arpu_8</th>\n",
       "      <th>onnet_mou_6</th>\n",
       "      <th>onnet_mou_7</th>\n",
       "      <th>onnet_mou_8</th>\n",
       "      <th>offnet_mou_6</th>\n",
       "      <th>offnet_mou_7</th>\n",
       "      <th>offnet_mou_8</th>\n",
       "      <th>roam_ic_mou_6</th>\n",
       "      <th>...</th>\n",
       "      <th>aug_vbc_3g</th>\n",
       "      <th>jul_vbc_3g</th>\n",
       "      <th>jun_vbc_3g</th>\n",
       "      <th>sep_vbc_3g</th>\n",
       "      <th>total_rech_amt_data_6</th>\n",
       "      <th>total_rech_amt_data_7</th>\n",
       "      <th>total_rech_amt_data_8</th>\n",
       "      <th>avg_rech_amt_goodPhase</th>\n",
       "      <th>churn</th>\n",
       "      <th>tenure</th>\n",
       "    </tr>\n",
       "  </thead>\n",
       "  <tbody>\n",
       "    <tr>\n",
       "      <th>0</th>\n",
       "      <td>197.385</td>\n",
       "      <td>214.816</td>\n",
       "      <td>213.803</td>\n",
       "      <td>0.00</td>\n",
       "      <td>0.00</td>\n",
       "      <td>0.00</td>\n",
       "      <td>0.00</td>\n",
       "      <td>0.00</td>\n",
       "      <td>0.00</td>\n",
       "      <td>0.00</td>\n",
       "      <td>...</td>\n",
       "      <td>30.40</td>\n",
       "      <td>0.00</td>\n",
       "      <td>101.20</td>\n",
       "      <td>3.58</td>\n",
       "      <td>252.0</td>\n",
       "      <td>252.0</td>\n",
       "      <td>252.0</td>\n",
       "      <td>559.0</td>\n",
       "      <td>1</td>\n",
       "      <td>32.266667</td>\n",
       "    </tr>\n",
       "    <tr>\n",
       "      <th>7</th>\n",
       "      <td>1069.180</td>\n",
       "      <td>1349.850</td>\n",
       "      <td>3171.480</td>\n",
       "      <td>57.84</td>\n",
       "      <td>54.68</td>\n",
       "      <td>52.29</td>\n",
       "      <td>453.43</td>\n",
       "      <td>567.16</td>\n",
       "      <td>325.91</td>\n",
       "      <td>16.23</td>\n",
       "      <td>...</td>\n",
       "      <td>57.74</td>\n",
       "      <td>19.38</td>\n",
       "      <td>18.74</td>\n",
       "      <td>0.00</td>\n",
       "      <td>0.0</td>\n",
       "      <td>0.0</td>\n",
       "      <td>0.0</td>\n",
       "      <td>1185.0</td>\n",
       "      <td>1</td>\n",
       "      <td>26.733333</td>\n",
       "    </tr>\n",
       "    <tr>\n",
       "      <th>8</th>\n",
       "      <td>378.721</td>\n",
       "      <td>492.223</td>\n",
       "      <td>137.362</td>\n",
       "      <td>413.69</td>\n",
       "      <td>351.03</td>\n",
       "      <td>35.08</td>\n",
       "      <td>94.66</td>\n",
       "      <td>80.63</td>\n",
       "      <td>136.48</td>\n",
       "      <td>0.00</td>\n",
       "      <td>...</td>\n",
       "      <td>21.03</td>\n",
       "      <td>910.65</td>\n",
       "      <td>122.16</td>\n",
       "      <td>0.00</td>\n",
       "      <td>0.0</td>\n",
       "      <td>354.0</td>\n",
       "      <td>207.0</td>\n",
       "      <td>696.0</td>\n",
       "      <td>0</td>\n",
       "      <td>10.500000</td>\n",
       "    </tr>\n",
       "    <tr>\n",
       "      <th>21</th>\n",
       "      <td>514.453</td>\n",
       "      <td>597.753</td>\n",
       "      <td>637.760</td>\n",
       "      <td>102.41</td>\n",
       "      <td>132.11</td>\n",
       "      <td>85.14</td>\n",
       "      <td>757.93</td>\n",
       "      <td>896.68</td>\n",
       "      <td>983.39</td>\n",
       "      <td>0.00</td>\n",
       "      <td>...</td>\n",
       "      <td>0.00</td>\n",
       "      <td>0.00</td>\n",
       "      <td>0.00</td>\n",
       "      <td>0.00</td>\n",
       "      <td>0.0</td>\n",
       "      <td>0.0</td>\n",
       "      <td>0.0</td>\n",
       "      <td>640.0</td>\n",
       "      <td>0</td>\n",
       "      <td>24.000000</td>\n",
       "    </tr>\n",
       "    <tr>\n",
       "      <th>23</th>\n",
       "      <td>74.350</td>\n",
       "      <td>193.897</td>\n",
       "      <td>366.966</td>\n",
       "      <td>48.96</td>\n",
       "      <td>50.66</td>\n",
       "      <td>33.58</td>\n",
       "      <td>85.41</td>\n",
       "      <td>89.36</td>\n",
       "      <td>205.89</td>\n",
       "      <td>0.00</td>\n",
       "      <td>...</td>\n",
       "      <td>40.45</td>\n",
       "      <td>51.86</td>\n",
       "      <td>0.00</td>\n",
       "      <td>0.00</td>\n",
       "      <td>0.0</td>\n",
       "      <td>712.0</td>\n",
       "      <td>540.0</td>\n",
       "      <td>583.0</td>\n",
       "      <td>0</td>\n",
       "      <td>20.133333</td>\n",
       "    </tr>\n",
       "  </tbody>\n",
       "</table>\n",
       "<p>5 rows × 134 columns</p>\n",
       "</div>"
      ],
      "text/plain": [
       "      arpu_6    arpu_7    arpu_8  onnet_mou_6  onnet_mou_7  onnet_mou_8  \\\n",
       "0    197.385   214.816   213.803         0.00         0.00         0.00   \n",
       "7   1069.180  1349.850  3171.480        57.84        54.68        52.29   \n",
       "8    378.721   492.223   137.362       413.69       351.03        35.08   \n",
       "21   514.453   597.753   637.760       102.41       132.11        85.14   \n",
       "23    74.350   193.897   366.966        48.96        50.66        33.58   \n",
       "\n",
       "    offnet_mou_6  offnet_mou_7  offnet_mou_8  roam_ic_mou_6  ...  aug_vbc_3g  \\\n",
       "0           0.00          0.00          0.00           0.00  ...       30.40   \n",
       "7         453.43        567.16        325.91          16.23  ...       57.74   \n",
       "8          94.66         80.63        136.48           0.00  ...       21.03   \n",
       "21        757.93        896.68        983.39           0.00  ...        0.00   \n",
       "23         85.41         89.36        205.89           0.00  ...       40.45   \n",
       "\n",
       "    jul_vbc_3g  jun_vbc_3g  sep_vbc_3g  total_rech_amt_data_6  \\\n",
       "0         0.00      101.20        3.58                  252.0   \n",
       "7        19.38       18.74        0.00                    0.0   \n",
       "8       910.65      122.16        0.00                    0.0   \n",
       "21        0.00        0.00        0.00                    0.0   \n",
       "23       51.86        0.00        0.00                    0.0   \n",
       "\n",
       "    total_rech_amt_data_7  total_rech_amt_data_8  avg_rech_amt_goodPhase  \\\n",
       "0                   252.0                  252.0                   559.0   \n",
       "7                     0.0                    0.0                  1185.0   \n",
       "8                   354.0                  207.0                   696.0   \n",
       "21                    0.0                    0.0                   640.0   \n",
       "23                  712.0                  540.0                   583.0   \n",
       "\n",
       "    churn     tenure  \n",
       "0       1  32.266667  \n",
       "7       1  26.733333  \n",
       "8       0  10.500000  \n",
       "21      0  24.000000  \n",
       "23      0  20.133333  \n",
       "\n",
       "[5 rows x 134 columns]"
      ]
     },
     "execution_count": 86,
     "metadata": {},
     "output_type": "execute_result"
    }
   ],
   "source": [
    "tenure_data = data_high_val_cust.copy()\n",
    "tenure_data['tenure'] = tenure_data['aon']/30\n",
    "tenure_data.head()"
   ]
  },
  {
   "cell_type": "code",
   "execution_count": 87,
   "metadata": {},
   "outputs": [
    {
     "data": {
      "text/plain": [
       "0         2-5 Yrs\n",
       "7         2-5 Yrs\n",
       "8     6-12 Months\n",
       "21        1-2 Yrs\n",
       "23        1-2 Yrs\n",
       "Name: tenure_range, dtype: category\n",
       "Categories (5, object): ['0-6 Months' < '6-12 Months' < '1-2 Yrs' < '2-5 Yrs' < '5 Yrs and above']"
      ]
     },
     "execution_count": 87,
     "metadata": {},
     "output_type": "execute_result"
    }
   ],
   "source": [
    "tn_range = [0, 6, 12, 24, 60, 61]\n",
    "tn_label = [ '0-6 Months', '6-12 Months', '1-2 Yrs', '2-5 Yrs', '5 Yrs and above']\n",
    "tenure_data['tenure_range'] = pd.cut(tenure_data['tenure'], tn_range, labels=tn_label)\n",
    "tenure_data['tenure_range'].head()"
   ]
  },
  {
   "cell_type": "code",
   "execution_count": 88,
   "metadata": {},
   "outputs": [
    {
     "data": {
      "image/png": "[encoded data removed]",
      "text/plain": [
       "<Figure size 1008x576 with 1 Axes>"
      ]
     },
     "metadata": {
      "needs_background": "light"
     },
     "output_type": "display_data"
    }
   ],
   "source": [
    "plt.figure(figsize=(14,8))\n",
    "sns.countplot(x = 'tenure_range', hue = 'churn',data = tenure_data,palette=(\"plasma\"))\n",
    "plt.show()"
   ]
  },
  {
   "cell_type": "code",
   "execution_count": 89,
   "metadata": {},
   "outputs": [
    {
     "data": {
      "text/plain": [
       "night_pck_user_8            46.799987\n",
       "date_of_last_rech_data_8    46.799987\n",
       "fb_user_8                   46.799987\n",
       "fb_user_6                   44.112443\n",
       "night_pck_user_6            44.112443\n",
       "date_of_last_rech_data_6    44.112443\n",
       "night_pck_user_7            43.117551\n",
       "date_of_last_rech_data_7    43.117551\n",
       "fb_user_7                   43.117551\n",
       "ic_others_8                  3.912797\n",
       "og_others_8                  3.912797\n",
       "date_of_last_rech_8          1.943044\n",
       "og_others_6                  1.809502\n",
       "ic_others_6                  1.809502\n",
       "ic_others_7                  1.789470\n",
       "dtype: float64"
      ]
     },
     "execution_count": 89,
     "metadata": {},
     "output_type": "execute_result"
    }
   ],
   "source": [
    "(data_high_val_cust.isnull().sum() * 100 / len(data_high_val_cust)).sort_values(ascending=False).head(15)"
   ]
  },
  {
   "cell_type": "code",
   "execution_count": 90,
   "metadata": {},
   "outputs": [],
   "source": [
    "# Drop all columns whose missing value % is above 40%\n",
    "\n",
    "data_high_val_cust.drop(['night_pck_user_8','date_of_last_rech_data_8','fb_user_8','fb_user_6','night_pck_user_6','date_of_last_rech_data_6','night_pck_user_7','date_of_last_rech_data_7','fb_user_7'], axis=1, inplace=True)"
   ]
  },
  {
   "cell_type": "code",
   "execution_count": 91,
   "metadata": {},
   "outputs": [
    {
     "data": {
      "text/plain": [
       "(29953, 124)"
      ]
     },
     "execution_count": 91,
     "metadata": {},
     "output_type": "execute_result"
    }
   ],
   "source": [
    "data_high_val_cust.shape"
   ]
  },
  {
   "cell_type": "code",
   "execution_count": 92,
   "metadata": {},
   "outputs": [
    {
     "data": {
      "text/plain": [
       "Index(['og_others_6', 'og_others_7', 'og_others_8', 'ic_others_6',\n",
       "       'ic_others_7', 'ic_others_8'],\n",
       "      dtype='object')"
      ]
     },
     "execution_count": 92,
     "metadata": {},
     "output_type": "execute_result"
    }
   ],
   "source": [
    "numeric_col = data_high_val_cust.columns[data_high_val_cust.columns.str.contains('others')]\n",
    "numeric_col"
   ]
  },
  {
   "cell_type": "code",
   "execution_count": 93,
   "metadata": {},
   "outputs": [
    {
     "data": {
      "text/plain": [
       "og_others_6    1.809502\n",
       "og_others_7    1.789470\n",
       "og_others_8    3.912797\n",
       "ic_others_6    1.809502\n",
       "ic_others_7    1.789470\n",
       "ic_others_8    3.912797\n",
       "dtype: float64"
      ]
     },
     "execution_count": 93,
     "metadata": {},
     "output_type": "execute_result"
    }
   ],
   "source": [
    "data_high_val_cust[numeric_col].isnull().sum() * 100 / len(data_high_val_cust)"
   ]
  },
  {
   "cell_type": "code",
   "execution_count": 94,
   "metadata": {},
   "outputs": [],
   "source": [
    "# since the % is very low we will impute value 0 in case of missing values\n",
    "\n",
    "data_high_val_cust['og_others_6'].fillna(value=0.0, inplace=True)\n",
    "data_high_val_cust['og_others_7'].fillna(value=0.0, inplace=True)\n",
    "data_high_val_cust['og_others_8'].fillna(value=0.0, inplace=True)\n",
    "data_high_val_cust['ic_others_6'].fillna(value=0.0, inplace=True)\n",
    "data_high_val_cust['ic_others_7'].fillna(value=0.0, inplace=True)\n",
    "data_high_val_cust['ic_others_8'].fillna(value=0.0, inplace=True)"
   ]
  },
  {
   "cell_type": "code",
   "execution_count": 95,
   "metadata": {},
   "outputs": [
    {
     "data": {
      "text/plain": [
       "og_others_6    0.0\n",
       "og_others_7    0.0\n",
       "og_others_8    0.0\n",
       "ic_others_6    0.0\n",
       "ic_others_7    0.0\n",
       "ic_others_8    0.0\n",
       "dtype: float64"
      ]
     },
     "execution_count": 95,
     "metadata": {},
     "output_type": "execute_result"
    }
   ],
   "source": [
    "data_high_val_cust[numeric_col].isnull().sum() * 100 / len(data_high_val_cust)"
   ]
  },
  {
   "cell_type": "code",
   "execution_count": 96,
   "metadata": {},
   "outputs": [],
   "source": [
    "df_final = data_high_val_cust.copy()"
   ]
  },
  {
   "cell_type": "code",
   "execution_count": 97,
   "metadata": {},
   "outputs": [],
   "source": [
    "# Drop columns which are not required\n",
    "\n",
    "df_final.drop(['avg_rech_amt_goodPhase'], axis=1,inplace= True)\n",
    "df_final.drop(df_final.filter(regex='date_'), axis=1,inplace= True)"
   ]
  },
  {
   "cell_type": "code",
   "execution_count": 98,
   "metadata": {},
   "outputs": [
    {
     "data": {
      "text/plain": [
       "Index(['arpu_6', 'arpu_7', 'arpu_8', 'onnet_mou_6', 'onnet_mou_7',\n",
       "       'onnet_mou_8', 'offnet_mou_6', 'offnet_mou_7', 'offnet_mou_8',\n",
       "       'roam_ic_mou_6',\n",
       "       ...\n",
       "       'sachet_3g_8', 'aon', 'aug_vbc_3g', 'jul_vbc_3g', 'jun_vbc_3g',\n",
       "       'sep_vbc_3g', 'total_rech_amt_data_6', 'total_rech_amt_data_7',\n",
       "       'total_rech_amt_data_8', 'churn'],\n",
       "      dtype='object', length=120)"
      ]
     },
     "execution_count": 98,
     "metadata": {},
     "output_type": "execute_result"
    }
   ],
   "source": [
    "df_final.columns"
   ]
  },
  {
   "cell_type": "code",
   "execution_count": 99,
   "metadata": {},
   "outputs": [],
   "source": [
    "# Take average of columns with month 6 and 7 and drop the individual attributes\n",
    "\n",
    "col_list = df_final.filter(regex='_6|_7').columns.str[:-2] # leaving out churn\n",
    "for idx, col in enumerate(col_list.unique()):\n",
    "    avg_col_name = \"avg_\"+col+\"_av67\"\n",
    "    col_6 = col+\"_6\"\n",
    "    col_7 = col+\"_7\"\n",
    "    df_final[avg_col_name] = (df_final[col_6]  + df_final[col_7])/ 2"
   ]
  },
  {
   "cell_type": "code",
   "execution_count": 100,
   "metadata": {},
   "outputs": [],
   "source": [
    "col_list_to_drop = df_final.filter(regex='_6|_7')\n",
    "df_final.drop(col_list_to_drop,axis=1,inplace=True)"
   ]
  },
  {
   "cell_type": "code",
   "execution_count": 101,
   "metadata": {},
   "outputs": [
    {
     "data": {
      "text/plain": [
       "(29953, 82)"
      ]
     },
     "execution_count": 101,
     "metadata": {},
     "output_type": "execute_result"
    }
   ],
   "source": [
    "df_final.shape"
   ]
  },
  {
   "cell_type": "code",
   "execution_count": 102,
   "metadata": {
    "scrolled": true
   },
   "outputs": [
    {
     "data": {
      "text/plain": [
       "Index(['arpu_8', 'onnet_mou_8', 'offnet_mou_8', 'roam_ic_mou_8',\n",
       "       'roam_og_mou_8', 'loc_og_t2t_mou_8', 'loc_og_t2m_mou_8',\n",
       "       'loc_og_t2f_mou_8', 'loc_og_t2c_mou_8', 'std_og_t2t_mou_8',\n",
       "       'std_og_t2m_mou_8', 'std_og_t2f_mou_8', 'isd_og_mou_8', 'spl_og_mou_8',\n",
       "       'og_others_8', 'loc_ic_t2t_mou_8', 'loc_ic_t2m_mou_8',\n",
       "       'loc_ic_t2f_mou_8', 'std_ic_t2t_mou_8', 'std_ic_t2m_mou_8',\n",
       "       'std_ic_t2f_mou_8', 'spl_ic_mou_8', 'isd_ic_mou_8', 'ic_others_8',\n",
       "       'total_rech_num_8', 'total_rech_amt_8', 'max_rech_amt_8',\n",
       "       'last_day_rch_amt_8', 'total_rech_data_8', 'max_rech_data_8',\n",
       "       'av_rech_amt_data_8', 'vol_2g_mb_8', 'vol_3g_mb_8', 'monthly_2g_8',\n",
       "       'sachet_2g_8', 'monthly_3g_8', 'sachet_3g_8', 'aon', 'aug_vbc_3g',\n",
       "       'jul_vbc_3g', 'jun_vbc_3g', 'sep_vbc_3g', 'total_rech_amt_data_8',\n",
       "       'churn', 'avg_arpu_av67', 'avg_onnet_mou_av67', 'avg_offnet_mou_av67',\n",
       "       'avg_roam_ic_mou_av67', 'avg_roam_og_mou_av67',\n",
       "       'avg_loc_og_t2t_mou_av67', 'avg_loc_og_t2m_mou_av67',\n",
       "       'avg_loc_og_t2f_mou_av67', 'avg_loc_og_t2c_mou_av67',\n",
       "       'avg_std_og_t2t_mou_av67', 'avg_std_og_t2m_mou_av67',\n",
       "       'avg_std_og_t2f_mou_av67', 'avg_isd_og_mou_av67', 'avg_spl_og_mou_av67',\n",
       "       'avg_og_others_av67', 'avg_loc_ic_t2t_mou_av67',\n",
       "       'avg_loc_ic_t2m_mou_av67', 'avg_loc_ic_t2f_mou_av67',\n",
       "       'avg_std_ic_t2t_mou_av67', 'avg_std_ic_t2m_mou_av67',\n",
       "       'avg_std_ic_t2f_mou_av67', 'avg_spl_ic_mou_av67', 'avg_isd_ic_mou_av67',\n",
       "       'avg_ic_others_av67', 'avg_total_rech_num_av67',\n",
       "       'avg_total_rech_amt_av67', 'avg_max_rech_amt_av67',\n",
       "       'avg_last_day_rch_amt_av67', 'avg_total_rech_data_av67',\n",
       "       'avg_max_rech_data_av67', 'avg_av_rech_amt_data_av67',\n",
       "       'avg_vol_2g_mb_av67', 'avg_vol_3g_mb_av67', 'avg_monthly_2g_av67',\n",
       "       'avg_sachet_2g_av67', 'avg_monthly_3g_av67', 'avg_sachet_3g_av67',\n",
       "       'avg_total_rech_amt_data_av67'],\n",
       "      dtype='object')"
      ]
     },
     "execution_count": 102,
     "metadata": {},
     "output_type": "execute_result"
    }
   ],
   "source": [
    "\n",
    "df_final.columns"
   ]
  },
  {
   "cell_type": "markdown",
   "metadata": {},
   "source": [
    "### Modeling"
   ]
  },
  {
   "cell_type": "markdown",
   "metadata": {},
   "source": [
    "#### PCA"
   ]
  },
  {
   "cell_type": "code",
   "execution_count": null,
   "metadata": {},
   "outputs": [],
   "source": [
    "pca_df = df_final.copy()"
   ]
  },
  {
   "cell_type": "code",
   "execution_count": null,
   "metadata": {},
   "outputs": [],
   "source": [
    "pca_df.shape"
   ]
  },
  {
   "cell_type": "code",
   "execution_count": null,
   "metadata": {},
   "outputs": [],
   "source": []
  },
  {
   "cell_type": "code",
   "execution_count": null,
   "metadata": {},
   "outputs": [],
   "source": [
    "\n",
    "from sklearn.model_selection import train_test_split \n",
    "from sklearn.preprocessing import StandardScaler\n",
    "from sklearn.decomposition import PCA\n",
    "from sklearn.decomposition import IncrementalPCA\n",
    "from imblearn.over_sampling import SMOTE\n",
    "\n",
    "def split_data(df):\n",
    "    y = df['churn']\n",
    "    X = df.drop(['churn'], axis=1)\n",
    "    return X,y\n",
    "\n",
    "def scale_data(X):\n",
    "    scaler = StandardScaler()\n",
    "    X_col = X.columns\n",
    "    X_scaled = scaler.fit_transform(X)\n",
    "    X_scale_final = pd.DataFrame(X_scaled, columns=X_col)\n",
    "    return X_scale_final\n",
    "\n",
    "def get_scree_plot(X):\n",
    "    pca = PCA(random_state=42)\n",
    "    pca.fit(X)\n",
    "    fig = plt.figure(figsize=(8,6))\n",
    "    plt.plot(np.cumsum(pca.explained_variance_ratio_))\n",
    "    plt.xlabel('No. of Components')\n",
    "    plt.ylabel('Cumulative Explained Variance')\n",
    "    plt.show()\n",
    "    return pca\n",
    "\n",
    "def resampling_data(X, y, feature_number, train_size=0.7, test_size=0.3):\n",
    "    X_train, X_test, y_train, y_test = train_test_split(X,y,train_size=train_size, test_size=test_size, random_state=1)\n",
    "    \n",
    "    # normalizing imbalance - data is skewed\n",
    "    #Initializing SMOTE: Synthetic Minority Over-sampling Technique\n",
    "    smote = SMOTE(random_state = 42)\n",
    "    X_tr,y_tr = smote.fit_resample(X_train,y_train)\n",
    "\n",
    "    # Applying PCA : Pricnipal Component Analysis\n",
    "    pca = IncrementalPCA(n_components=feature_number)    \n",
    "    X_tr_pca = pca.fit_transform(X_tr)\n",
    "    X_test_pca = pca.transform(X_test)\n",
    "\n",
    "    return X_tr_pca,X_test_pca,y_tr,y_test"
   ]
  },
  {
   "cell_type": "code",
   "execution_count": null,
   "metadata": {},
   "outputs": [],
   "source": [
    "X, y = split_data(pca_df)"
   ]
  },
  {
   "cell_type": "code",
   "execution_count": null,
   "metadata": {},
   "outputs": [],
   "source": [
    "X.head(2)"
   ]
  },
  {
   "cell_type": "code",
   "execution_count": null,
   "metadata": {},
   "outputs": [],
   "source": [
    "y.head(2)"
   ]
  },
  {
   "cell_type": "code",
   "execution_count": null,
   "metadata": {},
   "outputs": [],
   "source": [
    "# Percentage of churn data\n",
    "y.sum() * 100 / len(X)"
   ]
  },
  {
   "cell_type": "code",
   "execution_count": null,
   "metadata": {},
   "outputs": [],
   "source": [
    "X_scaled = scale_data(X)\n",
    "X_scaled.head(2)"
   ]
  },
  {
   "cell_type": "code",
   "execution_count": null,
   "metadata": {},
   "outputs": [],
   "source": [
    "pca = get_scree_plot(X_scaled)"
   ]
  },
  {
   "cell_type": "code",
   "execution_count": null,
   "metadata": {},
   "outputs": [],
   "source": [
    "np.cumsum(np.round(pca.explained_variance_ratio_, decimals=4) * 100)"
   ]
  },
  {
   "cell_type": "code",
   "execution_count": null,
   "metadata": {},
   "outputs": [],
   "source": [
    "# 60 components are enough to describe 95% of the variance in the dataset.We'll choose 60 components for our modeling\n",
    "X_train, X_test, y_train, y_test = resampling_data(X_scaled, y, 60)"
   ]
  },
  {
   "cell_type": "code",
   "execution_count": null,
   "metadata": {},
   "outputs": [],
   "source": [
    "X_train.shape"
   ]
  },
  {
   "cell_type": "code",
   "execution_count": null,
   "metadata": {},
   "outputs": [],
   "source": [
    "consolidate_summary = pd.DataFrame()"
   ]
  },
  {
   "cell_type": "markdown",
   "metadata": {},
   "source": [
    "#### Modeling using various techniques "
   ]
  },
  {
   "cell_type": "code",
   "execution_count": null,
   "metadata": {},
   "outputs": [],
   "source": [
    "from sklearn.metrics import accuracy_score, recall_score, precision_score, roc_auc_score, f1_score, confusion_matrix\n",
    "\n",
    "def get_regression_data(df):\n",
    "    X,Y=split_data(df)\n",
    "    x_train, x_test, y_train, y_test = resampling_data(scale_data(X),Y,60)\n",
    "    return x_train, x_test, y_train, y_test\n",
    "\n",
    "def plot_confusion_matrix(cm):\n",
    "    cmap=plt.cm.Blues\n",
    "    plt.imshow(cm, interpolation='nearest', cmap=cmap)\n",
    "    plt.title('Confusion matrix')\n",
    "    tick_marks = np.arange(len(classes))\n",
    "    plt.xticks(tick_marks, classes, rotation=0)\n",
    "    plt.yticks(tick_marks, classes)\n",
    "    plt.ylabel('True label')\n",
    "    plt.xlabel('Predicted label')\n",
    "\n",
    "def print_model_metrics(y_test, y_pred, model_name):\n",
    "    print(model_name+\" Model Stats Scores Summary : \")\n",
    "    cp = confusion_matrix(y_test,y_pred)\n",
    "    cm_display = metrics.ConfusionMatrixDisplay(confusion_matrix = cp, display_labels = [False, True])\n",
    "    cm_display.plot()\n",
    "    plt.show()\n",
    "    \n",
    "    accuracy = round(accuracy_score(y_test,y_pred),2)\n",
    "    recall = round(recall_score(y_test,y_pred),2)\n",
    "    precision = round(precision_score(y_test,y_pred),2)\n",
    "    auc = round(roc_auc_score(y_test,y_pred),2)\n",
    "    f1 = round(f1_score(y_test,y_pred),2)\n",
    "    \n",
    "    data = [[model_name,accuracy,recall,precision,auc,f1]] \n",
    "    df = pd.DataFrame(data, columns = ['Model', 'Accuracy','Precision','Recall','AUC','F1'])\n",
    "    add_to_global_summary(df)\n",
    "    return df \n",
    "\n",
    "def add_to_global_summary(df) :\n",
    "    global consolidate_summary \n",
    "    consolidate_summary = consolidate_summary.append(df,ignore_index=True)"
   ]
  },
  {
   "cell_type": "markdown",
   "metadata": {},
   "source": [
    "#### Logistic Regression"
   ]
  },
  {
   "cell_type": "code",
   "execution_count": null,
   "metadata": {},
   "outputs": [],
   "source": [
    "from sklearn.linear_model import LogisticRegression\n",
    "from sklearn import metrics\n",
    "\n",
    "lr = LogisticRegression()\n",
    "model = lr.fit(X_train, y_train)\n",
    "pred_probs_test = model.predict_proba(X_test)[:,1]\n",
    "print('Accuracy {roc}'.format(roc=metrics.roc_auc_score(y_test, pred_probs_test)))"
   ]
  },
  {
   "cell_type": "markdown",
   "metadata": {},
   "source": [
    "#### Tree Model"
   ]
  },
  {
   "cell_type": "code",
   "execution_count": null,
   "metadata": {},
   "outputs": [],
   "source": [
    "tree_df = df_final.copy()"
   ]
  },
  {
   "cell_type": "code",
   "execution_count": null,
   "metadata": {},
   "outputs": [],
   "source": [
    "X_train, X_test, y_train, y_test = get_regression_data(tree_df)"
   ]
  },
  {
   "cell_type": "code",
   "execution_count": null,
   "metadata": {},
   "outputs": [],
   "source": [
    "from sklearn.ensemble import RandomForestClassifier\n",
    "from sklearn.metrics import classification_report, confusion_matrix, accuracy_score\n",
    "\n",
    "rfc = RandomForestClassifier()\n",
    "rfc.fit(X_train, y_train)"
   ]
  },
  {
   "cell_type": "code",
   "execution_count": null,
   "metadata": {},
   "outputs": [],
   "source": [
    "predictions = rfc.predict(X_test)"
   ]
  },
  {
   "cell_type": "code",
   "execution_count": null,
   "metadata": {},
   "outputs": [],
   "source": [
    "print_model_metrics(y_test,predictions,\"RandomForest (Default)\")"
   ]
  },
  {
   "cell_type": "code",
   "execution_count": null,
   "metadata": {},
   "outputs": [],
   "source": [
    "# Hyperparameters tuning"
   ]
  },
  {
   "cell_type": "code",
   "execution_count": null,
   "metadata": {},
   "outputs": [],
   "source": [
    "from sklearn.model_selection import KFold, GridSearchCV\n",
    "\n",
    "def tune_hyperparameter(parameters, X_train, y_train, n_folds=5, max_depth=0):\n",
    "    if (max_depth == 0):\n",
    "        rf = RandomForestClassifier()\n",
    "    else:\n",
    "        rf = RandomForestClassifier(max_depth=max_depth)\n",
    "\n",
    "    rf = GridSearchCV(rf, parameters, cv=n_folds, n_jobs=-1, scoring=\"accuracy\", return_train_score= True)\n",
    "    scaler = StandardScaler()\n",
    "    X_train_scaled = scaler.fit_transform(X_train)\n",
    "    print('starting fit')\n",
    "    rf.fit(X_train_scaled, y_train)\n",
    "    print(' fit end ')\n",
    "    scores = rf.cv_results_\n",
    "    \n",
    "    for key in parameters.keys():\n",
    "        hyperparameters = key\n",
    "        break\n",
    "\n",
    "    # plotting accuracies for parameters\n",
    "    plt.figure(figsize=(16,5))\n",
    "    plt.plot(scores[\"param_\"+hyperparameters], scores[\"mean_train_score\"], label=\"training accuracy\")\n",
    "    plt.plot(scores[\"param_\"+hyperparameters], scores[\"mean_test_score\"], label=\"test accuracy\")\n",
    "    plt.xlabel(hyperparameters)\n",
    "    plt.ylabel(\"Accuracy\")\n",
    "    plt.legend()\n",
    "    plt.show()\n"
   ]
  },
  {
   "cell_type": "code",
   "execution_count": null,
   "metadata": {},
   "outputs": [],
   "source": [
    "# Tuning max_depth\n",
    "parameters = {'max_depth': range(2, 40, 5)}\n",
    "tune_hyperparameter(parameters, X_train, y_train)"
   ]
  },
  {
   "cell_type": "markdown",
   "metadata": {},
   "source": [
    "We can see that as we increase the value of max_depth, both train and test scores increase till a point, but after that test score becomes stagnant. \n",
    "The model tries to overfit as we increase the max_depth. \n",
    "Thus, controlling the depth of the constituent trees will help reduce overfitting in the forest. \n",
    "12 and 18 value have peek convergence and can be used for grid view search."
   ]
  },
  {
   "cell_type": "code",
   "execution_count": null,
   "metadata": {},
   "outputs": [],
   "source": [
    "# Tuning n_estimators\n",
    "parameters = {'n_estimators': range(100, 400, 100)}\n",
    "tune_hyperparameter(parameters,X_train,y_train)"
   ]
  },
  {
   "cell_type": "markdown",
   "metadata": {},
   "source": [
    "Score almost remain the same with very low dip throught the range. We wull use 200 for grid view search."
   ]
  },
  {
   "cell_type": "code",
   "execution_count": null,
   "metadata": {},
   "outputs": [],
   "source": [
    "# Tuning max_features\n",
    "parameters = {'max_features': [20,30,40,50]}\n",
    "tune_hyperparameter(parameters,X_train,y_train,4)"
   ]
  },
  {
   "cell_type": "markdown",
   "metadata": {},
   "source": [
    "Apparently, accuracy of training seems to be stable and test scores seems to be gradual till 30 and then decrease. Again we see increase on 40 and we will use that."
   ]
  },
  {
   "cell_type": "code",
   "execution_count": null,
   "metadata": {},
   "outputs": [],
   "source": [
    "# Tuning min_samples_leaf\n",
    "parameters = {'min_samples_leaf': range(10, 40, 10)}\n",
    "tune_hyperparameter(parameters,X_train,y_train)"
   ]
  },
  {
   "cell_type": "markdown",
   "metadata": {},
   "source": [
    "We can see that the model starts to overfit as value is decrease the value of min_samples_leaf. 10 to 20 seems to be a good range and that will be used in grid search."
   ]
  },
  {
   "cell_type": "code",
   "execution_count": null,
   "metadata": {},
   "outputs": [],
   "source": [
    "# Tuning min_samples_split\n",
    "parameters = {'min_samples_split': range(10, 40, 10)}\n",
    "tune_hyperparameter(parameters,X_train,y_train)"
   ]
  },
  {
   "cell_type": "markdown",
   "metadata": {},
   "source": [
    "Range 10 to 30 is optimal with good accuracy."
   ]
  },
  {
   "cell_type": "code",
   "execution_count": null,
   "metadata": {},
   "outputs": [],
   "source": [
    "# Create the parameter grid based on the results of random search \n",
    "param_grid = {\n",
    "    'max_depth': [12,18],\n",
    "    'n_estimators': [200],\n",
    "    'max_features': [40],\n",
    "    'min_samples_leaf': [10,20],\n",
    "    'min_samples_split': [10,20,30]\n",
    "}\n",
    "# Create a base model\n",
    "rf = RandomForestClassifier()\n",
    "\n",
    "# Instantiate the grid search model\n",
    "rf_grid_search = GridSearchCV(estimator = rf, param_grid = param_grid, \n",
    "                          cv = 5, n_jobs = -1,verbose = 1,return_train_score=True)"
   ]
  },
  {
   "cell_type": "code",
   "execution_count": null,
   "metadata": {},
   "outputs": [],
   "source": [
    "rf_grid_search.fit(X_train, y_train)"
   ]
  },
  {
   "cell_type": "code",
   "execution_count": null,
   "metadata": {},
   "outputs": [],
   "source": [
    "rf_grid_search.best_score_"
   ]
  },
  {
   "cell_type": "code",
   "execution_count": null,
   "metadata": {},
   "outputs": [],
   "source": [
    "rf_grid_search.best_params_"
   ]
  },
  {
   "cell_type": "code",
   "execution_count": null,
   "metadata": {},
   "outputs": [],
   "source": [
    "rfc = RandomForestClassifier(max_depth=18,\n",
    "                             max_features=40,\n",
    "                             min_samples_leaf=10,\n",
    "                             min_samples_split=20,\n",
    "                             n_estimators=200,\n",
    "                             n_jobs = -1)\n",
    "rfc.fit(X_train,y_train)\n",
    "predictions = rfc.predict(X_test)"
   ]
  },
  {
   "cell_type": "code",
   "execution_count": null,
   "metadata": {},
   "outputs": [],
   "source": [
    "# Printing confusion matrix\n",
    "print_model_metrics(y_test,predictions,'RandomForest (Hyper)')"
   ]
  },
  {
   "cell_type": "markdown",
   "metadata": {},
   "source": [
    "#### XGBoost"
   ]
  },
  {
   "cell_type": "code",
   "execution_count": null,
   "metadata": {},
   "outputs": [],
   "source": [
    "pip install xgboost"
   ]
  },
  {
   "cell_type": "code",
   "execution_count": null,
   "metadata": {},
   "outputs": [],
   "source": [
    "import xgboost as xgb\n",
    "from xgboost import XGBClassifier\n",
    "from xgboost import plot_importance\n",
    "from imblearn.over_sampling import SMOTE"
   ]
  },
  {
   "cell_type": "code",
   "execution_count": null,
   "metadata": {},
   "outputs": [],
   "source": [
    "xgboost_df = df_final.copy()\n",
    "X_train, X_test, y_train, y_test = get_regression_data(xgboost_df)"
   ]
  },
  {
   "cell_type": "code",
   "execution_count": null,
   "metadata": {},
   "outputs": [],
   "source": [
    "# fit model on training data with default hyperparameters\n",
    "model = XGBClassifier()\n",
    "model.fit(X_train, y_train)"
   ]
  },
  {
   "cell_type": "code",
   "execution_count": null,
   "metadata": {},
   "outputs": [],
   "source": [
    "y_pred = model.predict(X_test)\n",
    "print_model_metrics(y_test, y_pred ,'XGBoost (Default)')"
   ]
  },
  {
   "cell_type": "markdown",
   "metadata": {},
   "source": [
    "The roc_auc in this case is about 78% with default hyperparameters."
   ]
  },
  {
   "cell_type": "code",
   "execution_count": null,
   "metadata": {},
   "outputs": [],
   "source": [
    "# hyperparameter tuning with XGBoost\n",
    "\n",
    "folds = 5\n",
    "# specify range of hyperparameters\n",
    "param_grid = {'learning_rate': [0.1,0.2,0.3], \n",
    "             'subsample': [0.3,0.4,0.5]}          \n",
    "\n",
    "# specify model\n",
    "xgb_model = XGBClassifier(max_depth=2, n_estimators=200)\n",
    "\n",
    "# set up GridSearchCV()\n",
    "model_cv = GridSearchCV(estimator = xgb_model, \n",
    "                        param_grid = param_grid, \n",
    "                        scoring= 'accuracy', # accuracy\n",
    "                        cv = folds, \n",
    "                        n_jobs = -1,\n",
    "                        verbose = 1,\n",
    "                        return_train_score=True)"
   ]
  },
  {
   "cell_type": "code",
   "execution_count": null,
   "metadata": {},
   "outputs": [],
   "source": [
    "model_cv.fit(X_train, y_train)   "
   ]
  },
  {
   "cell_type": "code",
   "execution_count": null,
   "metadata": {},
   "outputs": [],
   "source": [
    "cv_results_xboost = pd.DataFrame(model_cv.cv_results_)\n",
    "cv_results_xboost['param_learning_rate'] = cv_results_xboost['param_learning_rate'].astype('float')"
   ]
  },
  {
   "cell_type": "code",
   "execution_count": null,
   "metadata": {},
   "outputs": [],
   "source": [
    "model_cv.best_score_"
   ]
  },
  {
   "cell_type": "code",
   "execution_count": null,
   "metadata": {},
   "outputs": [],
   "source": [
    "model_cv.best_params_"
   ]
  },
  {
   "cell_type": "code",
   "execution_count": null,
   "metadata": {},
   "outputs": [],
   "source": [
    "def plot_for_xboost(param_grid,cv_results):\n",
    "    plt.figure(figsize=(18,5))\n",
    "    for n, subsample in enumerate(param_grid['subsample']):\n",
    "        # subplot 1/n\n",
    "        plt.subplot(1,len(param_grid['subsample']), n+1)\n",
    "        df = cv_results[cv_results['param_subsample']==subsample]\n",
    "\n",
    "        plt.plot(df[\"param_learning_rate\"], df[\"mean_test_score\"])\n",
    "        plt.plot(df[\"param_learning_rate\"], df[\"mean_train_score\"])\n",
    "        plt.xlabel('learning_rate')\n",
    "        plt.ylabel('AUC')\n",
    "        plt.title(\"subsample={0}\".format(subsample))\n",
    "        plt.ylim([0.60, 1])\n",
    "        plt.legend(['test score', 'train score'], loc='right')\n",
    "        plt.xscale('log')"
   ]
  },
  {
   "cell_type": "code",
   "execution_count": null,
   "metadata": {},
   "outputs": [],
   "source": [
    "param_grid1 = {'learning_rate': [0.1,0.2,0.3], 'subsample': [0.3,0.4,0.5]}  \n",
    "plot_for_xboost(param_grid1,cv_results_xboost)"
   ]
  },
  {
   "cell_type": "markdown",
   "metadata": {},
   "source": [
    "The results show that a subsample size of 0.5 and learning_rate of about 0.3 seems optimal. Also, XGBoost has resulted in the highest ROC AUC obtained (across various hyperparameters)."
   ]
  },
  {
   "cell_type": "code",
   "execution_count": null,
   "metadata": {},
   "outputs": [],
   "source": [
    "params = {'learning_rate': 0.3,\n",
    "          'max_depth': 2, \n",
    "          'n_estimators':200,\n",
    "          'subsample':0.5,\n",
    "         'objective':'binary:logistic'}\n",
    "\n",
    "# fit model on training data\n",
    "model = XGBClassifier(params = params,max_depth=2, n_estimators=200)\n",
    "model.fit(X_train, y_train)"
   ]
  },
  {
   "cell_type": "code",
   "execution_count": null,
   "metadata": {},
   "outputs": [],
   "source": [
    "y_pred = model.predict(X_test)"
   ]
  },
  {
   "cell_type": "code",
   "execution_count": null,
   "metadata": {},
   "outputs": [],
   "source": [
    "print_model_metrics(y_test, y_pred,'XGBoost (Hyper Tuned)')\n"
   ]
  },
  {
   "cell_type": "code",
   "execution_count": null,
   "metadata": {},
   "outputs": [],
   "source": [
    "print(\"Important features ...\")\n",
    "plt.figure(figsize=(6,4))\n",
    "sns.countplot(x = 'tenure_range', hue = 'churn',data = tenure_data,palette=(\"plasma\"))\n",
    "plt.show()\n",
    "\n",
    "\n",
    "col = list(X_scaled.columns)\n",
    "df_pca = pd.DataFrame({'PC1':pca.components_[0],'PC2':pca.components_[1], 'PC3':pca.components_[2],'Feature':col})\n",
    "df_pca.head(15)"
   ]
  },
  {
   "cell_type": "markdown",
   "metadata": {},
   "source": [
    "## Final Analysis\n",
    "Less number of **high value customer** are churing but for last **6 month** no new high valued cusotmer is onboarded which is concerning and company should concentrate on that aspect.\n",
    "\n",
    "Customers with less than 4 years of tenure are more likely to churn and company should concentrate more on that segment by rolling out new schems to that group.\n",
    "\n",
    "Average revenue per user seems to be most important feature in determining churn prediction.\n",
    "\n",
    "Incoming and Outgoing Calls on romaing for 8th month are strong indicators of churn behaviour\n",
    "\n",
    "Local Outgoing calls made to landline , fixedline , mobile and call center provides a strong indicator of churn behaviour.\n",
    "\n",
    "Better 2G/3G area coverage where 2G/3G services are not good, it's strong indicator of churn behaviour.\n",
    "\n",
    "\n"
   ]
  },
  {
   "cell_type": "markdown",
   "metadata": {},
   "source": [
    "### Model Insights"
   ]
  },
  {
   "cell_type": "code",
   "execution_count": null,
   "metadata": {},
   "outputs": [],
   "source": [
    "consolidate_summary.head(10)"
   ]
  },
  {
   "cell_type": "markdown",
   "metadata": {},
   "source": [
    "Random forest also produce good accuracy with 0.91 (default overfit model) and 0.90 with tuned hyperparameters.\n",
    "XGBoost also produce good accuracy of 0.90 (default overfit model) and 0.86 with tuned hyperparameters.\n",
    "\n",
    "As per our analysis Random forest produces best accuracy and models can be selected to predict churn data for future dataset or production."
   ]
  },
  {
   "cell_type": "markdown",
   "metadata": {},
   "source": [
    "                ---- End ----"
   ]
  },
  {
   "cell_type": "code",
   "execution_count": null,
   "metadata": {},
   "outputs": [],
   "source": []
  }
 ],
 "metadata": {
  "kernelspec": {
   "display_name": "Python 3 (ipykernel)",
   "language": "python",
   "name": "python3"
  },
  "language_info": {
   "codemirror_mode": {
    "name": "ipython",
    "version": 3
   },
   "file_extension": ".py",
   "mimetype": "text/x-python",
   "name": "python",
   "nbconvert_exporter": "python",
   "pygments_lexer": "ipython3",
   "version": "3.9.12"
  }
 },
 "nbformat": 4,
 "nbformat_minor": 4
}
